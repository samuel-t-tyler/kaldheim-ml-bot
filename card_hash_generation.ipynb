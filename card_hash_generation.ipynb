{
  "nbformat": 4,
  "nbformat_minor": 0,
  "metadata": {
    "colab": {
      "name": "card_hash_generation.ipynb",
      "provenance": [],
      "collapsed_sections": [],
      "authorship_tag": "ABX9TyMI7oPuMIbS53WlrIbI1MQc",
      "include_colab_link": true
    },
    "kernelspec": {
      "name": "python3",
      "display_name": "Python 3"
    }
  },
  "cells": [
    {
      "cell_type": "markdown",
      "metadata": {
        "id": "view-in-github",
        "colab_type": "text"
      },
      "source": [
        "<a href=\"https://colab.research.google.com/github/thesamasaurus/kaldheim-ml-bot/blob/main/card_hash_generation.ipynb\" target=\"_parent\"><img src=\"https://colab.research.google.com/assets/colab-badge.svg\" alt=\"Open In Colab\"/></a>"
      ]
    },
    {
      "cell_type": "markdown",
      "metadata": {
        "id": "mvHlKCJ3jvTz"
      },
      "source": [
        "# Creating a Master Hash Table"
      ]
    },
    {
      "cell_type": "markdown",
      "metadata": {
        "id": "ehnANIGzj1yC"
      },
      "source": [
        "### The output of this section allows us to take any url, onehot vector index, or card name, and change into another.  Master hash is a layered dictionary that in the following format:\r\n",
        "\r\n",
        "master_hash[\"x_to_y\"][\"x\"] \r\n",
        "\r\n",
        "### for example\r\n",
        "\r\n",
        "master_hash[\"name_to_url\"][\"Doomskar Oracle\"]\r\n",
        "\r\n",
        "### this call will output the image url of Doomskar oracle.  You do not need to run this section for the bot to work, as the output is provided in the github."
      ]
    },
    {
      "cell_type": "code",
      "metadata": {
        "id": "XqNhunHccdHN"
      },
      "source": [
        "import os\r\n",
        "import re\r\n",
        "import pandas as pd\r\n",
        "import copy\r\n",
        "import numpy as np\r\n",
        "import pickle\r\n",
        "from google.colab import drive\r\n",
        "import json"
      ],
      "execution_count": null,
      "outputs": []
    },
    {
      "cell_type": "markdown",
      "metadata": {
        "id": "rr1H5vmdjVDY"
      },
      "source": [
        "### Mount drive to access local files saved in google drive"
      ]
    },
    {
      "cell_type": "code",
      "metadata": {
        "colab": {
          "base_uri": "https://localhost:8080/"
        },
        "id": "0EwKgSy8coHC",
        "outputId": "38b881b3-fa1c-479d-97f3-caaf976e74f9"
      },
      "source": [
        "drive.mount('/content/gdrive')"
      ],
      "execution_count": null,
      "outputs": [
        {
          "output_type": "stream",
          "text": [
            "Drive already mounted at /content/gdrive; to attempt to forcibly remount, call drive.mount(\"/content/gdrive\", force_remount=True).\n"
          ],
          "name": "stdout"
        }
      ]
    },
    {
      "cell_type": "markdown",
      "metadata": {
        "id": "Imo7jghlje8F"
      },
      "source": [
        "### Load two API requests\r\n"
      ]
    },
    {
      "cell_type": "code",
      "metadata": {
        "id": "OzlW81g1cr5B"
      },
      "source": [
        "with open(\"/content/gdrive/MyDrive/Colab Notebooks/17_lands_scrapes/kaldheim/postman_saves/scryfall_collection_v2.postman_collection\") as f:\r\n",
        "  kald_data_1 = json.load(f)"
      ],
      "execution_count": null,
      "outputs": []
    },
    {
      "cell_type": "code",
      "metadata": {
        "id": "4w1Eaw95lpH3"
      },
      "source": [
        "with open(\"/content/gdrive/MyDrive/Colab Notebooks/17_lands_scrapes/kaldheim/postman_saves/scryfall_collection_v2_p2.postman_collection\") as f:\r\n",
        "  kald_data_2 = json.load(f)"
      ],
      "execution_count": null,
      "outputs": []
    },
    {
      "cell_type": "markdown",
      "metadata": {
        "id": "TWZjGvYQjkcU"
      },
      "source": [
        "### Define functions to turn API requests into a hash table that can convert any datatype used in the project into any other"
      ]
    },
    {
      "cell_type": "code",
      "metadata": {
        "id": "s6wEJJ10dQxl"
      },
      "source": [
        "def create_list_of_uris(scryfall_get):\r\n",
        "  scryfall_get[\"data\"][0][\"image_uris\"][\"border_crop\"]\r\n",
        "  list_of_named_uris = []\r\n",
        "  for i in range(0, len(scryfall_get[\"data\"])):\r\n",
        "    temp = []\r\n",
        "    if (\"image_uris\" in scryfall_get[\"data\"][i]):\r\n",
        "      temp.append(scryfall_get[\"data\"][i][\"image_uris\"][\"border_crop\"])\r\n",
        "      temp.append(scryfall_get[\"data\"][i][\"name\"])\r\n",
        "      temp.append(scryfall_get[\"data\"][i][\"cmc\"])\r\n",
        "      temp.append(scryfall_get[\"data\"][i][\"color_identity\"])\r\n",
        "    else:\r\n",
        "      temp.append(scryfall_get[\"data\"][i][\"card_faces\"][0][\"image_uris\"][\"border_crop\"])\r\n",
        "      temp.append(scryfall_get[\"data\"][i][\"name\"])\r\n",
        "      temp.append(scryfall_get[\"data\"][i][\"cmc\"])\r\n",
        "      temp.append(scryfall_get[\"data\"][i][\"color_identity\"])\r\n",
        "    list_of_named_uris.append(temp)\r\n",
        "  return list_of_named_uris"
      ],
      "execution_count": null,
      "outputs": []
    },
    {
      "cell_type": "markdown",
      "metadata": {
        "id": "QC-Oplntjuew"
      },
      "source": [
        "### Taking output of scryfall api request, and creating master_hash"
      ]
    },
    {
      "cell_type": "code",
      "metadata": {
        "id": "lrbtDDXVdR-t"
      },
      "source": [
        "list_of_named_uris_1 = create_list_of_uris(kald_data_1)\r\n",
        "list_of_named_uris_2 = create_list_of_uris(kald_data_2)\r\n"
      ],
      "execution_count": null,
      "outputs": []
    },
    {
      "cell_type": "code",
      "metadata": {
        "id": "WK3JuQpii0zs"
      },
      "source": [
        "def add_list(master_list, named_uris):\r\n",
        "  for i in named_uris:\r\n",
        "    master_list.append(i)\r\n"
      ],
      "execution_count": null,
      "outputs": []
    },
    {
      "cell_type": "code",
      "metadata": {
        "id": "ENJLYC0ImjR5"
      },
      "source": [
        "master_list = []\r\n",
        "add_list(master_list, list_of_named_uris_1)\r\n",
        "add_list(master_list, list_of_named_uris_2)"
      ],
      "execution_count": null,
      "outputs": []
    },
    {
      "cell_type": "code",
      "metadata": {
        "id": "WZjh5P0Pl-iA"
      },
      "source": [
        "def create_master_dict(url_name_array):\r\n",
        "  master_dict = {}\r\n",
        "  master_dict[\"url_to_name\"] = {}\r\n",
        "  master_dict[\"name_to_url\"] = {}\r\n",
        "  master_dict[\"name_to_cmc\"] = {}\r\n",
        "  master_dict[\"name_to_color\"] = {}\r\n",
        "  for i in range(len(url_name_array)):\r\n",
        "    master_dict[\"url_to_name\"][url_name_array[i][0]] = url_name_array[i][1]\r\n",
        "  for i in range(len(url_name_array)):\r\n",
        "    master_dict[\"name_to_url\"][url_name_array[i][1]] = url_name_array[i][0]\r\n",
        "  for j in range(len(url_name_array)):\r\n",
        "    master_dict[\"name_to_cmc\"][url_name_array[j][1]] = url_name_array[j][2]\r\n",
        "    master_dict[\"name_to_color\"][url_name_array[j][1]] = url_name_array[j][3]\r\n",
        "  return master_dict"
      ],
      "execution_count": null,
      "outputs": []
    },
    {
      "cell_type": "code",
      "metadata": {
        "id": "gQ53ii7YseR8"
      },
      "source": [
        "master_hash = create_master_dict(master_list)"
      ],
      "execution_count": null,
      "outputs": []
    },
    {
      "cell_type": "code",
      "metadata": {
        "id": "uxRL5qTCUcEG"
      },
      "source": [
        "for key in master_hash[\"name_to_url\"]:\r\n",
        "  if (isinstance(master_hash[\"name_to_url\"][key], str)):\r\n",
        "    master_hash[\"name_to_url\"][key] = [master_hash[\"name_to_url\"][key]]"
      ],
      "execution_count": null,
      "outputs": []
    },
    {
      "cell_type": "markdown",
      "metadata": {
        "id": "Fd_qBteyXgzU"
      },
      "source": [
        "### Appending Updated Postman Uris"
      ]
    },
    {
      "cell_type": "markdown",
      "metadata": {
        "id": "hVnPWfNrk6AQ"
      },
      "source": [
        "#### Unfortunately, the scryfall API was not consistent, and images were being changed midway though the project.  For this reason, it became necessicary to add a second API request."
      ]
    },
    {
      "cell_type": "code",
      "metadata": {
        "id": "lSR0LUCNXgLF"
      },
      "source": [
        "with open(\"/content/gdrive/MyDrive/Colab Notebooks/17_lands_scrapes/kaldheim/postman_saves/response_3_1\") as f:\r\n",
        "  kald_data_3 = json.load(f)"
      ],
      "execution_count": null,
      "outputs": []
    },
    {
      "cell_type": "code",
      "metadata": {
        "id": "6RBcinKvXqmT"
      },
      "source": [
        "with open(\"/content/gdrive/MyDrive/Colab Notebooks/17_lands_scrapes/kaldheim/postman_saves/response_3_2\") as g:\r\n",
        "  kald_data_4 = json.load(g)"
      ],
      "execution_count": null,
      "outputs": []
    },
    {
      "cell_type": "code",
      "metadata": {
        "id": "zUfMghB6XcOL"
      },
      "source": [
        "list_of_named_uris_3 = create_list_of_uris(kald_data_3)\r\n",
        "list_of_named_uris_4 = create_list_of_uris(kald_data_4)"
      ],
      "execution_count": null,
      "outputs": []
    },
    {
      "cell_type": "code",
      "metadata": {
        "id": "861gYySWXcQh"
      },
      "source": [
        "master_list_2 = []\r\n",
        "add_list(master_list_2, list_of_named_uris_3)\r\n",
        "add_list(master_list_2, list_of_named_uris_4)"
      ],
      "execution_count": null,
      "outputs": []
    },
    {
      "cell_type": "code",
      "metadata": {
        "colab": {
          "base_uri": "https://localhost:8080/"
        },
        "id": "GnekWgWReIdI",
        "outputId": "2f12bc29-5527-44d6-882f-416b3f54d267"
      },
      "source": [
        "master_hash[\"name_to_url\"][\"Aegar, the Freezing Flame\"]"
      ],
      "execution_count": null,
      "outputs": [
        {
          "output_type": "execute_result",
          "data": {
            "text/plain": [
              "['https://c1.scryfall.com/file/scryfall-cards/border_crop/front/6/8/68011f60-6202-48f4-8255-fb94764e2951.jpg?1610566556']"
            ]
          },
          "metadata": {
            "tags": []
          },
          "execution_count": 17
        }
      ]
    },
    {
      "cell_type": "code",
      "metadata": {
        "id": "i37pgmI4Y2Fe"
      },
      "source": [
        "for i in range(len(master_list_2)):\r\n",
        "  if (master_hash[\"name_to_url\"][master_list_2[i][1]][0] != master_list_2[i][0]):\r\n",
        "    master_hash[\"name_to_url\"][master_list_2[i][1]].append(master_list_2[i][0])"
      ],
      "execution_count": null,
      "outputs": []
    },
    {
      "cell_type": "code",
      "metadata": {
        "colab": {
          "base_uri": "https://localhost:8080/"
        },
        "id": "CSccyCB_bbNh",
        "outputId": "db11bd62-eec9-4b74-80c3-a024c759ff08"
      },
      "source": [
        "master_hash[\"name_to_url\"][\"Aegar, the Freezing Flame\"]"
      ],
      "execution_count": null,
      "outputs": [
        {
          "output_type": "execute_result",
          "data": {
            "text/plain": [
              "['https://c1.scryfall.com/file/scryfall-cards/border_crop/front/6/8/68011f60-6202-48f4-8255-fb94764e2951.jpg?1610566556',\n",
              " 'https://c1.scryfall.com/file/scryfall-cards/border_crop/front/6/8/68011f60-6202-48f4-8255-fb94764e2951.jpg?1614989874']"
            ]
          },
          "metadata": {
            "tags": []
          },
          "execution_count": 21
        }
      ]
    },
    {
      "cell_type": "markdown",
      "metadata": {
        "id": "SpsGGVxDlLr3"
      },
      "source": [
        "### Another issue, was the some URLS being used in the draft were old and no longer shown by scryfall's API, so i needed to manually add them."
      ]
    },
    {
      "cell_type": "code",
      "metadata": {
        "id": "iR3UDXDznzdP"
      },
      "source": [
        "master_hash[\"name_to_url\"][\"Brinebarrow Intruder\"].append([\"https://c1.scryfall.com/file/scryfall-cards/border_crop/front/8/9/89960a74-9e17-4e30-874a-4286dd4c917d.jpg?1610998144\", \"https://c1.scryfall.com/file/scryfall-cards/border_crop/front/8/9/89960a74-9e17-4e30-874a-4286dd4c917d.jpg?1614476929\"])\r\n",
        "master_hash[\"name_to_url\"][\"Doomskar Oracle\"].append([\"https://c1.scryfall.com/file/scryfall-cards/border_crop/front/6/d/6dae01c8-15bb-44ad-a2c6-9bcf7a9e8c17.jpg?1610586058\", \"https://c1.scryfall.com/file/scryfall-cards/border_crop/front/6/d/6dae01c8-15bb-44ad-a2c6-9bcf7a9e8c17.jpg?1614475433\"])\r\n",
        "master_hash[\"name_to_url\"][\"Ravenform\"].append([\"https://c1.scryfall.com/file/scryfall-cards/border_crop/front/2/c/2c2cfcd7-b43a-4dad-a033-e661f55ceecd.jpg?1610586103\", \"https://c1.scryfall.com/file/scryfall-cards/border_crop/front/2/c/2c2cfcd7-b43a-4dad-a033-e661f55ceecd.jpg?1614477784\"])\r\n",
        "master_hash[\"name_to_url\"][\"Snow-Covered Swamp\"].append([\"https://c1.scryfall.com/file/scryfall-cards/border_crop/front/6/a/6aa85af8-15f5-4620-8aea-0b45c28372ed.jpg?1610996926\", \"https://c1.scryfall.com/file/scryfall-cards/border_crop/front/9/1/9160baf7-5796-4815-8e9d-e804af70cb74.jpg?1610153618\" ])\r\n",
        "master_hash[\"name_to_url\"][\"Annul\"].append([\"https://c1.scryfall.com/file/scryfall-cards/border_crop/front/4/b/4b1d4a59-11a0-4a55-8ac0-07377a9e6dc8.jpg?1610300632\", \"https://c1.scryfall.com/file/scryfall-cards/border_crop/front/4/b/4b1d4a59-11a0-4a55-8ac0-07377a9e6dc8.jpg?1614476636\"])\r\n",
        "master_hash[\"name_to_url\"][\"Master Skald\"].append([\"https://c1.scryfall.com/file/scryfall-cards/border_crop/front/6/b/6b269e27-8e17-4bf2-b28a-a83ecc7d22c0.jpg?1611014236\", \"https://c1.scryfall.com/file/scryfall-cards/border_crop/front/6/b/6b269e27-8e17-4bf2-b28a-a83ecc7d22c0.jpg?1614475773\"])\r\n",
        "master_hash[\"name_to_url\"][\"Revitalize\"].append([\"https://c1.scryfall.com/file/scryfall-cards/border_crop/front/3/a/3a9fb75e-c8e5-417b-83d4-5105af9c66c1.jpg?1611169934\", \"https://c1.scryfall.com/file/scryfall-cards/border_crop/front/3/a/3a9fb75e-c8e5-417b-83d4-5105af9c66c1.jpg?1614475898\"])\r\n",
        "master_hash[\"name_to_url\"][\"Mystic Reflection\"].append([\"https://c1.scryfall.com/file/scryfall-cards/border_crop/front/f/7/f7b877e2-60eb-46cd-acd7-8555b9e7e993.jpg?1610656808\",  'https://c1.scryfall.com/file/scryfall-cards/border_crop/front/f/7/f7b877e2-60eb-46cd-acd7-8555b9e7e993.jpg?1614477674'])\r\n",
        "master_hash[\"name_to_url\"][\"Beskir Shieldmate\"].append([\"https://c1.scryfall.com/file/scryfall-cards/border_crop/front/d/f/dfc1df84-9c47-444b-9d58-d9c7bed51c66.jpg?1610656522\",  'https://c1.scryfall.com/file/scryfall-cards/border_crop/front/d/f/dfc1df84-9c47-444b-9d58-d9c7bed51c66.jpg?1614664042'])\r\n",
        "master_hash[\"name_to_url\"][\"Littjara Kinseekers\"].append([\"https://c1.scryfall.com/file/scryfall-cards/border_crop/front/c/1/c119f836-0707-49e2-b6d4-25f849d054a4.jpg?1610656790\", \"https://c1.scryfall.com/file/scryfall-cards/border_crop/front/c/1/c119f836-0707-49e2-b6d4-25f849d054a4.jpg?1614477561\"])\r\n",
        "master_hash[\"name_to_url\"][\"Starnheim Courser\"].append([\"https://c1.scryfall.com/file/scryfall-cards/border_crop/front/5/c/5c5373dd-4aec-4e93-97fb-a639aa096764.jpg?1611169955\", 'https://c1.scryfall.com/file/scryfall-cards/border_crop/front/5/c/5c5373dd-4aec-4e93-97fb-a639aa096764.jpg?1614476274'])\r\n",
        "master_hash[\"name_to_url\"][\"Snow-Covered Plains\"].append([\"https://c1.scryfall.com/file/scryfall-cards/border_crop/front/a/f/afd2730f-878e-47ee-ad2a-73f8fa4e0794.jpg?1610996924\", \"https://c1.scryfall.com/file/scryfall-cards/border_crop/front/6/f/6fb78693-354a-49d0-a493-430a89c6e6f6.jpg?1610153175\"])\r\n",
        "master_hash[\"name_to_url\"][\"Goldmaw Champion\"].append([\"https://c1.scryfall.com/file/scryfall-cards/border_crop/front/4/4/44d4cd64-8560-48f5-b0bc-f75286c1c91c.jpg?1610644356\", \"https://c1.scryfall.com/file/scryfall-cards/border_crop/front/4/4/44d4cd64-8560-48f5-b0bc-f75286c1c91c.jpg?1614475605\"])\r\n",
        "master_hash[\"name_to_url\"][\"Giant Ox\"].append([\"https://c1.scryfall.com/file/scryfall-cards/border_crop/front/f/c/fc71d8ca-c613-4534-bc9d-bc1e13202a2c.jpg?1611517846\", \"https://c1.scryfall.com/file/scryfall-cards/border_crop/front/f/c/fc71d8ca-c613-4534-bc9d-bc1e13202a2c.jpg?1614475479\"])\r\n",
        "master_hash[\"name_to_url\"][\"Warhorn Blast\"].append([\"https://c1.scryfall.com/file/scryfall-cards/border_crop/front/3/f/3fc98aff-edc0-4f78-ae4f-e08735c9e512.jpg?1610999564\", \"https://c1.scryfall.com/file/scryfall-cards/border_crop/front/3/f/3fc98aff-edc0-4f78-ae4f-e08735c9e512.jpg?1614476515\"])\r\n",
        "master_hash[\"name_to_url\"][\"Depart the Realm\"].append([\"https://c1.scryfall.com/file/scryfall-cards/border_crop/front/2/c/2ce0403d-76ed-4eb0-abdd-74ed28f96137.jpg?1611520838\", \"https://c1.scryfall.com/file/scryfall-cards/border_crop/front/2/c/2ce0403d-76ed-4eb0-abdd-74ed28f96137.jpg?1614477038\"])\r\n",
        "master_hash[\"name_to_url\"][\"Mists of Littjara\"].append([\"https://c1.scryfall.com/file/scryfall-cards/border_crop/front/6/c/6cfd4944-790f-4835-a8a1-c23ef7047648.jpg?1611077980\", 'https://c1.scryfall.com/file/scryfall-cards/border_crop/front/6/c/6cfd4944-790f-4835-a8a1-c23ef7047648.jpg?1614477594'])\r\n",
        "master_hash[\"name_to_url\"][\"Snow-Covered Mountain\"].append([\"https://c1.scryfall.com/file/scryfall-cards/border_crop/front/5/4/5474e67c-628f-41b0-aa31-3d85a267265a.jpg?1610996923\", \"https://c1.scryfall.com/file/scryfall-cards/border_crop/front/f/5/f54aa46b-4b7c-4846-bf19-a289ed36c172.jpg?1610153758\"])\r\n",
        "master_hash[\"name_to_url\"][\"Karfell Harbinger\"].append([\"https://c1.scryfall.com/file/scryfall-cards/border_crop/front/4/9/4911016c-b92a-47cc-9553-b424d7be196a.jpg?1610656768\", \"https://c1.scryfall.com/file/scryfall-cards/border_crop/front/4/9/4911016c-b92a-47cc-9553-b424d7be196a.jpg?1614477526\"])\r\n",
        "master_hash[\"name_to_url\"][\"Wings of the Cosmos\"].append([\"https://c1.scryfall.com/file/scryfall-cards/border_crop/front/d/6/d6b26c95-f90d-43fb-8c99-2a3aa13ac2c6.jpg?1610562354\", \"https://c1.scryfall.com/file/scryfall-cards/border_crop/front/d/6/d6b26c95-f90d-43fb-8c99-2a3aa13ac2c6.jpg?1614476552\"])\r\n",
        "master_hash[\"name_to_url\"][\"Pilfering Hawk\"].append([\"https://c1.scryfall.com/file/scryfall-cards/border_crop/front/7/6/76ee3829-8dec-4c0f-a6c2-ad47a1c94cfc.jpg?1610996908\", \"https://c1.scryfall.com/file/scryfall-cards/border_crop/front/7/6/76ee3829-8dec-4c0f-a6c2-ad47a1c94cfc.jpg?1614477750\"])\r\n",
        "master_hash[\"name_to_url\"][\"Frost Augur\"].append(\"https://c1.scryfall.com/file/scryfall-cards/border_crop/front/a/2/a2ae592f-caf6-445a-970b-f8101998e657.jpg?1610996862\")\r\n",
        "master_hash[\"name_to_url\"][\"Valkyrie's Sword\"].append([\"https://c1.scryfall.com/file/scryfall-cards/border_crop/front/9/7/97873c66-6bff-4d79-850c-1e2663098ef4.jpg?1610714064\",  'https://c1.scryfall.com/file/scryfall-cards/border_crop/front/9/7/97873c66-6bff-4d79-850c-1e2663098ef4.jpg?1614476433'])\r\n",
        "master_hash[\"name_to_url\"][\"Behold the Multiverse\"].append([\"https://c1.scryfall.com/file/scryfall-cards/border_crop/front/2/7/27855a38-a682-4f97-ad22-ac625e86faec.jpg?1610586049\", \"https://c1.scryfall.com/file/scryfall-cards/border_crop/front/2/7/27855a38-a682-4f97-ad22-ac625e86faec.jpg?1614476806\"])\r\n",
        "master_hash[\"name_to_url\"][\"Axgard Braggart\"].append([\"https://c1.scryfall.com/file/scryfall-cards/border_crop/front/4/d/4de5ff64-6fe7-4fc5-be27-cdbaa14545ab.jpg?1611000171\", \"https://c1.scryfall.com/file/scryfall-cards/border_crop/front/4/d/4de5ff64-6fe7-4fc5-be27-cdbaa14545ab.jpg?1614478895\"])\r\n",
        "master_hash[\"name_to_url\"][\"Disdainful Stroke\"].append([\"https://c1.scryfall.com/file/scryfall-cards/border_crop/front/7/6/7691ac89-f8ba-493e-aa11-5674a783dffb.jpg?1610999654\", 'https://c1.scryfall.com/file/scryfall-cards/border_crop/front/7/6/7691ac89-f8ba-493e-aa11-5674a783dffb.jpg?1614477080'])\r\n",
        "master_hash[\"name_to_url\"][\"Icebind Pillar\"].append([\"https://c1.scryfall.com/file/scryfall-cards/border_crop/front/a/3/a3152f1f-5d3f-4bc4-9b6f-f2983ab3f691.jpg?1611170091\", \"https://c1.scryfall.com/file/scryfall-cards/border_crop/front/a/3/a3152f1f-5d3f-4bc4-9b6f-f2983ab3f691.jpg?1614477407\"])\r\n",
        "master_hash[\"name_to_url\"][\"Bind the Monster\"].append([\"https://c1.scryfall.com/file/scryfall-cards/border_crop/front/0/8/080be8d1-e453-4250-b917-f0eb26644895.jpg?1611078481\", \"https://c1.scryfall.com/file/scryfall-cards/border_crop/front/0/8/080be8d1-e453-4250-b917-f0eb26644895.jpg?1614476889\"])\r\n",
        "master_hash[\"name_to_url\"][\"Valor of the Worthy\"].append([\"https://c1.scryfall.com/file/scryfall-cards/border_crop/front/8/3/83632e73-be3f-43fc-932f-45cb1af4f8fb.jpg?1611053713\",  'https://c1.scryfall.com/file/scryfall-cards/border_crop/front/8/3/83632e73-be3f-43fc-932f-45cb1af4f8fb.jpg?1614476470'])\r\n",
        "master_hash[\"name_to_url\"][\"Shimmerdrift Vale\"].append([\"https://c1.scryfall.com/file/scryfall-cards/border_crop/front/f/0/f09d98db-0176-41a7-b99b-ead29876cdab.jpg?1610999466\", \"https://c1.scryfall.com/file/scryfall-cards/border_crop/front/f/0/f09d98db-0176-41a7-b99b-ead29876cdab.jpg?1612006512\"])\r\n",
        "master_hash[\"name_to_url\"][\"Frostpeak Yeti\"].append([\"https://c1.scryfall.com/file/scryfall-cards/border_crop/front/3/f/3f406ce3-dce1-42d3-b76c-8e8c4b2770cb.jpg?1611000324\", \"https://c1.scryfall.com/file/scryfall-cards/border_crop/front/3/f/3f406ce3-dce1-42d3-b76c-8e8c4b2770cb.jpg?1614477201\"])\r\n",
        "master_hash[\"name_to_url\"][\"Invoke the Divine\"].append([\"https://c1.scryfall.com/file/scryfall-cards/border_crop/front/7/2/7213d9e1-e9c6-45d8-bb7f-336c41e7b6f7.jpg?1610997029\", 'https://c1.scryfall.com/file/scryfall-cards/border_crop/front/7/2/7213d9e1-e9c6-45d8-bb7f-336c41e7b6f7.jpg?1614475645'])\r\n",
        "master_hash[\"name_to_url\"][\"Usher of the Fallen\"].append([\"https://c1.scryfall.com/file/scryfall-cards/border_crop/front/2/4/24e58478-c6a8-4f86-854a-a489c99bd777.jpg?1610732645\", \"https://c1.scryfall.com/file/scryfall-cards/border_crop/front/2/4/24e58478-c6a8-4f86-854a-a489c99bd777.jpg?1614476397\"])\r\n",
        "master_hash[\"name_to_url\"][\"Battershield Warrior\"].append([\"https://c1.scryfall.com/file/scryfall-cards/border_crop/front/f/b/fb79dc85-f85a-4846-9ac3-c75c64ea9c0a.jpg?1611205587\",  'https://c1.scryfall.com/file/scryfall-cards/border_crop/front/f/b/fb79dc85-f85a-4846-9ac3-c75c64ea9c0a.jpg?1614478927'])\r\n",
        "master_hash[\"name_to_url\"][\"Draugr Thought-Thief\"].append(\"https://c1.scryfall.com/file/scryfall-cards/border_crop/front/3/1/31da60a2-d4d3-4954-be59-c7ff61fa2905.jpg?1611110658\")\r\n",
        "master_hash[\"name_to_url\"][\"Avalanche Caller\"].append(\"https://c1.scryfall.com/file/scryfall-cards/border_crop/front/8/9/89cef049-6a47-4264-b2bc-b9d291a09c4c.jpg?1610996846\")\r\n",
        "master_hash[\"name_to_url\"][\"Story Seeker\"].append([\"https://c1.scryfall.com/file/scryfall-cards/border_crop/front/e/3/e3dae817-3db1-4edf-86ba-c2c2b238fcf5.jpg?1610999539\", \"https://c1.scryfall.com/file/scryfall-cards/border_crop/front/e/8/e8e645c8-90ac-4865-b441-e64251d6c9a8.jpg?1614475567\", \"https://c1.scryfall.com/file/scryfall-cards/border_crop/front/e/3/e3dae817-3db1-4edf-86ba-c2c2b238fcf5.jpg?1614476359\"])\r\n",
        "master_hash[\"name_to_url\"][\"Snow-Covered Island\"].append([\"https://c1.scryfall.com/file/scryfall-cards/border_crop/front/3/b/3bfa5ebc-5623-4eec-89ea-dc187489ee4a.jpg?1610996921\", \"https://c1.scryfall.com/file/scryfall-cards/border_crop/front/0/d/0dcf8c0a-cf91-42a0-a54e-da5e7c697ee3.jpg?1610153284\"])\r\n",
        "master_hash[\"name_to_url\"][\"Battlefield Raptor\"].append([\"https://c1.scryfall.com/file/scryfall-cards/border_crop/front/3/8/389f0045-218d-41cd-bdca-8a9a0ab1b31b.jpg?1610999580\", \"https://c1.scryfall.com/file/scryfall-cards/border_crop/front/3/8/389f0045-218d-41cd-bdca-8a9a0ab1b31b.jpg?1614478965\"] )\r\n",
        "master_hash[\"name_to_url\"][\"Tibalt's Trickery\"].append([\"https://c1.scryfall.com/file/scryfall-cards/border_crop/front/d/d/dd921e27-3e08-438c-bec2-723226d35175.jpg?1610391556\",  'https://c1.scryfall.com/file/scryfall-cards/border_crop/front/d/d/dd921e27-3e08-438c-bec2-723226d35175.jpg?1613386926'] )\r\n",
        "master_hash[\"name_to_url\"][\"Codespell Cleric\"].append([\"https://c1.scryfall.com/file/scryfall-cards/border_crop/front/1/3/1316a74e-da55-4668-87f2-98389a90a2a4.jpg?1610586454\", \"https://c1.scryfall.com/file/scryfall-cards/border_crop/front/1/3/1316a74e-da55-4668-87f2-98389a90a2a4.jpg?1614475315\"] )\r\n",
        "master_hash[\"name_to_url\"][\"Frostpyre Arcanist\"].append([\"https://c1.scryfall.com/file/scryfall-cards/border_crop/front/2/7/276f8abd-4d39-4b50-876f-9c6713bc4ab5.jpg?1610643395\", \"https://c1.scryfall.com/file/scryfall-cards/border_crop/front/2/7/276f8abd-4d39-4b50-876f-9c6713bc4ab5.jpg?1614477246\"] )\r\n",
        "master_hash[\"name_to_url\"][\"Kardur, Doomscourge\"].append([\"https://c1.scryfall.com/file/scryfall-cards/border_crop/front/9/6/9685e2a0-5573-41bc-a914-f40c3011459b.jpg?1611000522\", 'https://c1.scryfall.com/file/scryfall-cards/border_crop/front/9/6/9685e2a0-5573-41bc-a914-f40c3011459b.jpg?1612480876'] )\r\n",
        "master_hash[\"name_to_url\"][\"Axgard Armory\"].append([\"https://c1.scryfall.com/file/scryfall-cards/border_crop/front/f/9/f9c77d35-8418-48fb-b7d7-7cfa763545c5.jpg?1611000199\", 'https://c1.scryfall.com/file/scryfall-cards/border_crop/front/f/9/f9c77d35-8418-48fb-b7d7-7cfa763545c5.jpg?1611926236'] )\r\n",
        "master_hash[\"name_to_url\"][\"Snow-Covered Forest\"].append([\"https://c1.scryfall.com/file/scryfall-cards/border_crop/front/c/a/ca17acea-f079-4e53-8176-a2f5c5c408a1.jpg?1610996919\", \"https://c1.scryfall.com/file/scryfall-cards/border_crop/front/f/e/fe241460-f7c1-4ba8-a156-6720b494ac97.jpg?1610153896\"] )\r\n",
        "master_hash[\"name_to_url\"][\"Rune of Sustenance\"].append([\"https://c1.scryfall.com/file/scryfall-cards/border_crop/front/0/e/0e31b716-f325-445a-9098-9ca75d7b35a4.jpg?1611077402\", \"https://c1.scryfall.com/file/scryfall-cards/border_crop/front/0/e/0e31b716-f325-445a-9098-9ca75d7b35a4.jpg?1614475983\"] )\r\n",
        "master_hash[\"name_to_url\"][\"Stalwart Valkyrie\"].append([\"https://c1.scryfall.com/file/scryfall-cards/border_crop/front/8/9/89ecb530-e429-4b50-a24c-8437614cf224.jpg?1610923714\", \"https://c1.scryfall.com/file/scryfall-cards/border_crop/front/8/9/89ecb530-e429-4b50-a24c-8437614cf224.jpg?1614476236\"] )\r\n",
        "master_hash[\"name_to_url\"][\"Giant's Amulet\"].append([\"https://c1.scryfall.com/file/scryfall-cards/border_crop/front/a/b/ab8b1ec2-9303-4722-8644-b3bc1a5c387f.jpg?1611000629\", 'https://c1.scryfall.com/file/scryfall-cards/border_crop/front/a/b/ab8b1ec2-9303-4722-8644-b3bc1a5c387f.jpg?1614477287'] )\r\n",
        "master_hash[\"name_to_url\"][\"Inga Rune-Eyes\"].append(\"https://c1.scryfall.com/file/scryfall-cards/border_crop/front/6/2/62a6f095-5beb-42a8-af8f-d40eef27150e.jpg?1610153104\" )\r\n",
        "master_hash[\"name_to_url\"][\"Berg Strider\"].append([\"https://c1.scryfall.com/file/scryfall-cards/border_crop/front/f/3/f3567bdc-450e-4481-9349-a80fe52fe431.jpg?1610996849\", \"https://c1.scryfall.com/file/scryfall-cards/border_crop/front/f/3/f3567bdc-450e-4481-9349-a80fe52fe431.jpg?1614476852\"] )\r\n",
        "master_hash[\"name_to_url\"][\"Clarion Spirit\"].append([\"https://c1.scryfall.com/file/scryfall-cards/border_crop/front/8/6/86a4c348-1012-4339-960a-c7bc7fd84fbb.jpg?1610566443\", 'https://c1.scryfall.com/file/scryfall-cards/border_crop/front/8/6/86a4c348-1012-4339-960a-c7bc7fd84fbb.jpg?1614475278'] )\r\n",
        "master_hash[\"name_to_url\"][\"Spectral Steel\"].append([\"https://c1.scryfall.com/file/scryfall-cards/border_crop/front/c/f/cf036489-ef9e-40ee-a1bb-24ee37c554f1.jpg?1610585883\",  'https://c1.scryfall.com/file/scryfall-cards/border_crop/front/c/f/cf036489-ef9e-40ee-a1bb-24ee37c554f1.jpg?1614476202'] )\r\n",
        "master_hash[\"name_to_url\"][\"Iron Verdict\"].append([\"https://c1.scryfall.com/file/scryfall-cards/border_crop/front/2/f/2fb38f5b-a2c2-4b06-8c9c-9615475a43e7.jpg?1610586709\", \"https://c1.scryfall.com/file/scryfall-cards/border_crop/front/2/f/2fb38f5b-a2c2-4b06-8c9c-9615475a43e7.jpg?1614475687\"] )\r\n",
        "master_hash[\"name_to_url\"][\"Shepherd of the Cosmos\"].append([\"https://c1.scryfall.com/file/scryfall-cards/border_crop/front/c/e/ce33c84e-008c-48d8-a8e8-77cd19cc4f1f.jpg?1610586538\", 'https://c1.scryfall.com/file/scryfall-cards/border_crop/front/c/e/ce33c84e-008c-48d8-a8e8-77cd19cc4f1f.jpg?1614476118'] )\r\n",
        "master_hash[\"name_to_url\"][\"Mistwalker\"].append([\"https://c1.scryfall.com/file/scryfall-cards/border_crop/front/9/2/92f64b49-327c-473b-a492-f020a322aed7.jpg?1611170180\", 'https://c1.scryfall.com/file/scryfall-cards/border_crop/front/9/2/92f64b49-327c-473b-a492-f020a322aed7.jpg?1614477635'] )\r\n",
        "master_hash[\"name_to_url\"][\"Glimpse the Cosmos\"].append([\"https://c1.scryfall.com/file/scryfall-cards/border_crop/front/d/c/dc96ebe8-f4b3-4788-a6f5-2a50b6c0d935.jpg?1610066015\", 'https://c1.scryfall.com/file/scryfall-cards/border_crop/front/d/c/dc96ebe8-f4b3-4788-a6f5-2a50b6c0d935.jpg?1614477320'] )\r\n",
        "master_hash[\"name_to_url\"][\"Sigrid, God-Favored\"].append([\"https://c1.scryfall.com/file/scryfall-cards/border_crop/front/a/e/aeec3c1e-e612-4700-888e-300912932552.jpg?1610151617\", 'https://c1.scryfall.com/file/scryfall-cards/border_crop/front/a/e/aeec3c1e-e612-4700-888e-300912932552.jpg?1614476164'] )\r\n",
        "master_hash[\"name_to_url\"][\"Gods' Hall Guardian\"].append([\"https://c1.scryfall.com/file/scryfall-cards/border_crop/front/e/8/e8e645c8-90ac-4865-b441-e64251d6c9a8.jpg?1610289885\", \"https://c1.scryfall.com/file/scryfall-cards/border_crop/front/e/8/e8e645c8-90ac-4865-b441-e64251d6c9a8.jpg?1614475567\"] )\r\n",
        "master_hash[\"name_to_url\"][\"Reidane, God of the Worthy // Valkmira, Protector's Shield\"].append([\"https://c1.scryfall.com/file/scryfall-cards/border_crop/front/3/6/3606519e-5677-4c21-a34e-be195b6669fa.jpg?1611000242\", \"https://c1.scryfall.com/file/scryfall-cards/border_crop/front/3/6/3606519e-5677-4c21-a34e-be195b6669fa.jpg?1612724106\"] )\r\n",
        "master_hash[\"name_to_url\"][\"Bound in Gold\"].append([\"https://c1.scryfall.com/file/scryfall-cards/border_crop/front/0/7/074d526a-1eef-4045-bd38-f6d68c4bc4b9.jpg?1610495209\", 'https://c1.scryfall.com/file/scryfall-cards/border_crop/front/0/7/074d526a-1eef-4045-bd38-f6d68c4bc4b9.jpg?1614475237'] )\r\n",
        "master_hash[\"name_to_url\"][\"Divine Gambit\"].append([\"https://c1.scryfall.com/file/scryfall-cards/border_crop/front/6/9/696a8c12-4a1f-4b96-a921-538fa1a2de43.jpg?1610647857\", \"https://c1.scryfall.com/file/scryfall-cards/border_crop/front/6/9/696a8c12-4a1f-4b96-a921-538fa1a2de43.jpg?1614475355\"] )\r\n",
        "master_hash[\"name_to_url\"][\"Esika's Chariot\"].append([\"https://c1.scryfall.com/file/scryfall-cards/border_crop/front/a/8/a87606cc-fbf0-4e2c-9798-f1c935d0573d.jpg?1610226891\", 'https://c1.scryfall.com/file/scryfall-cards/border_crop/front/a/8/a87606cc-fbf0-4e2c-9798-f1c935d0573d.jpg?1612481175'] )\r\n",
        "master_hash[\"name_to_url\"][\"Kaya's Onslaught\"].append([\"https://c1.scryfall.com/file/scryfall-cards/border_crop/front/f/2/f28e151f-b61b-486f-b7f8-7abde207c442.jpg?1610586077\", 'https://c1.scryfall.com/file/scryfall-cards/border_crop/front/f/2/f28e151f-b61b-486f-b7f8-7abde207c442.jpg?1614475732'] )\r\n",
        "master_hash[\"name_to_url\"][\"Graven Lore\"].append([\"https://c1.scryfall.com/file/scryfall-cards/border_crop/front/e/4/e4386e5c-32b1-4096-a93f-fedd1a4801fc.jpg?1610996879\", 'https://c1.scryfall.com/file/scryfall-cards/border_crop/front/e/4/e4386e5c-32b1-4096-a93f-fedd1a4801fc.jpg?1614477364'] )\r\n",
        "master_hash[\"name_to_url\"][\"Runeforge Champion\"].append([\"https://c1.scryfall.com/file/scryfall-cards/border_crop/front/4/3/4368b087-05a0-4a88-ab43-0cd16446239b.jpg?1611077052\", \"https://c1.scryfall.com/file/scryfall-cards/border_crop/front/4/3/4368b087-05a0-4a88-ab43-0cd16446239b.jpg?1614476025\"] )\r\n",
        "master_hash[\"name_to_url\"][\"Icebreaker Kraken\"].append([\"https://c1.scryfall.com/file/scryfall-cards/border_crop/front/f/1/f1fdb9bb-09a2-4ff7-bcd4-35ea33c1b752.jpg?1611078087\", 'https://c1.scryfall.com/file/scryfall-cards/border_crop/front/f/1/f1fdb9bb-09a2-4ff7-bcd4-35ea33c1b752.jpg?1614477441'] )\r\n",
        "master_hash[\"name_to_url\"][\"Augury Raven\"].append([\"https://c1.scryfall.com/file/scryfall-cards/border_crop/front/a/9/a9947cfd-91d6-479e-a7f6-2a2050f020f3.jpg?1610586032\",  'https://c1.scryfall.com/file/scryfall-cards/border_crop/front/a/9/a9947cfd-91d6-479e-a7f6-2a2050f020f3.jpg?1614476715'] )\r\n",
        "master_hash[\"name_to_url\"][\"Cosmos Charger\"].append([\"https://c1.scryfall.com/file/scryfall-cards/border_crop/front/4/e/4ec318c6-b718-436f-b9e8-e0c6154e5010.jpg?1610585974\", 'https://c1.scryfall.com/file/scryfall-cards/border_crop/front/4/e/4ec318c6-b718-436f-b9e8-e0c6154e5010.jpg?1614476964'] )\r\n",
        "master_hash[\"name_to_url\"][\"Search for Glory\"].append([\"https://c1.scryfall.com/file/scryfall-cards/border_crop/front/b/6/b65c215d-562d-4c7c-bc9f-b1d741050158.jpg?1610996917\",  'https://c1.scryfall.com/file/scryfall-cards/border_crop/front/b/6/b65c215d-562d-4c7c-bc9f-b1d741050158.jpg?1614476078'] )\r\n",
        "master_hash[\"name_to_url\"][\"Starnheim Unleashed\"].append([\"https://c1.scryfall.com/file/scryfall-cards/border_crop/front/e/a/ea660d42-a441-48d8-98c1-00933cde94a4.jpg?1610586121\",  'https://c1.scryfall.com/file/scryfall-cards/border_crop/front/e/a/ea660d42-a441-48d8-98c1-00933cde94a4.jpg?1614476316'] )\r\n",
        "master_hash[\"name_to_url\"][\"Glorious Protector\"].append([\"https://c1.scryfall.com/file/scryfall-cards/border_crop/front/d/9/d9f08552-7f1a-4fdb-9a70-d99cdbf75910.jpg?1611000537\", 'https://c1.scryfall.com/file/scryfall-cards/border_crop/front/d/9/d9f08552-7f1a-4fdb-9a70-d99cdbf75910.jpg?1614475523'] )\r\n",
        "master_hash[\"name_to_url\"][\"Cyclone Summoner\"].append([\"https://c1.scryfall.com/file/scryfall-cards/border_crop/front/b/2/b2d40071-cadf-48de-a8ed-d55adbfab632.jpg?1610656719\", 'https://c1.scryfall.com/file/scryfall-cards/border_crop/front/b/2/b2d40071-cadf-48de-a8ed-d55adbfab632.jpg?1614477000'] )\r\n",
        "master_hash[\"name_to_url\"][\"Barkchannel Pathway // Tidechannel Pathway\"].append([\"https://c1.scryfall.com/file/scryfall-cards/border_crop/front/b/6/b6de14ae-0132-4261-af00-630bf15918cd.jpg?1608226844\", 'https://c1.scryfall.com/file/scryfall-cards/border_crop/front/b/6/b6de14ae-0132-4261-af00-630bf15918cd.jpg?1613329753'] )\r\n",
        "master_hash[\"name_to_url\"][\"Ascendant Spirit\"].append([\"https://c1.scryfall.com/file/scryfall-cards/border_crop/front/e/a/ea56de43-c0fd-4627-846d-41a962b95f17.jpg?1611798233\",  'https://c1.scryfall.com/file/scryfall-cards/border_crop/front/e/a/ea56de43-c0fd-4627-846d-41a962b95f17.jpg?1614476676'] )\r\n",
        "master_hash[\"name_to_url\"][\"Doomskar\"].append([\"https://c1.scryfall.com/file/scryfall-cards/border_crop/front/1/3/130ee895-1e5e-4f82-bb66-e1275bac75dd.jpg?1611054468\", \"https://c1.scryfall.com/file/scryfall-cards/border_crop/front/1/3/130ee895-1e5e-4f82-bb66-e1275bac75dd.jpg?1614475398\"] )\r\n",
        "master_hash[\"name_to_url\"][\"Darkbore Pathway // Slitherbore Pathway\"].append([\"https://c1.scryfall.com/file/scryfall-cards/border_crop/front/8/7/87a4e5fe-161f-42da-9ca2-67c8e8970e94.jpg?1608057969\", 'https://c1.scryfall.com/file/scryfall-cards/border_crop/front/8/7/87a4e5fe-161f-42da-9ca2-67c8e8970e94.jpg?1612554438'] )\r\n",
        "master_hash[\"name_to_url\"][\"Rally the Ranks\"].append([\"https://c1.scryfall.com/file/scryfall-cards/border_crop/front/0/3/03595195-3be2-4d18-b5c0-43b2dcc1c0f5.jpg?1610585956\", \"https://c1.scryfall.com/file/scryfall-cards/border_crop/front/0/3/03595195-3be2-4d18-b5c0-43b2dcc1c0f5.jpg?1614475816\"] )\r\n",
        "master_hash[\"name_to_url\"][\"Resplendent Marshal\"].append(\"https://c1.scryfall.com/file/scryfall-cards/border_crop/front/5/e/5e849bec-2ee6-4c83-83e6-bf9f5543e414.jpg?1611027770\" )\r\n",
        "master_hash[\"name_to_url\"][\"Orvar, the All-Form\"].append([\"https://c1.scryfall.com/file/scryfall-cards/border_crop/front/7/f/7f36775e-9e48-49cc-a771-d58481712edc.jpg?1610997185\",  'https://c1.scryfall.com/file/scryfall-cards/border_crop/front/7/f/7f36775e-9e48-49cc-a771-d58481712edc.jpg?1614477709'] )\r\n",
        "master_hash[\"name_to_url\"][\"Alrund's Epiphany\"].append(\"https://c1.scryfall.com/file/scryfall-cards/border_crop/front/c/9/c94fcb53-a7bd-4a80-a536-9fb0eb24261a.jpg?1610586029\" )\r\n",
        "master_hash[\"name_to_url\"][\"Alrund, God of the Cosmos // Hakka, Whispering Raven\"].append([\"https://c1.scryfall.com/file/scryfall-cards/border_crop/front/5/d/5d131784-c1a3-463e-a37b-b720af67ab62.jpg?1611323243\", 'https://c1.scryfall.com/file/scryfall-cards/border_crop/front/5/d/5d131784-c1a3-463e-a37b-b720af67ab62.jpg?1612316166'] )\r\n",
        "master_hash[\"name_to_url\"][\"Righteous Valkyrie\"].append([\"https://c1.scryfall.com/file/scryfall-cards/border_crop/front/0/2/02fb5f9f-8750-4eb5-a03a-6dacc60e0b90.jpg?1610996474\", \"https://c1.scryfall.com/file/scryfall-cards/border_crop/front/0/2/02fb5f9f-8750-4eb5-a03a-6dacc60e0b90.jpg?1614475946\"] )\r\n",
        "master_hash[\"name_to_url\"]['Blightstep Pathway // Searstep Pathway'].append([\"https://c1.scryfall.com/file/scryfall-cards/border_crop/back/0/c/0ce39a19-f51d-4a35-ae80-5b82eb15fcff.jpg?1608058149\", 'https://c1.scryfall.com/file/scryfall-cards/border_crop/front/0/c/0ce39a19-f51d-4a35-ae80-5b82eb15fcff.jpg?1608058149'] )\r\n",
        "\r\n",
        "master_hash[\"name_to_color\"][\"Frost Augur\"] = [\"U\"]\r\n",
        "master_hash[\"name_to_color\"][\"Draugr Thought-Thief\"] = [\"U\"]\r\n",
        "master_hash[\"name_to_color\"][\"Avalanche Caller\"] = [\"U\"]\r\n",
        "master_hash[\"name_to_color\"][\"Inga Rune-Eyes\"] = [\"U\"]\r\n",
        "master_hash[\"name_to_color\"][\"Alrund's Epiphany\"] = [\"U\"]\r\n",
        "master_hash[\"name_to_color\"][\"Resplendent Marshal\"] = [\"W\"]\r\n",
        "\r\n",
        "master_hash[\"name_to_cmc\"][\"Frost Augur\"] = 1.0\r\n",
        "master_hash[\"name_to_cmc\"][\"Avalanche Caller\"] = 2.0\r\n",
        "master_hash[\"name_to_cmc\"][\"Draugr Thought-Thief\"] = 3.0\r\n",
        "master_hash[\"name_to_cmc\"][\"Inga Rune-Eyes\"] = 4.0\r\n",
        "master_hash[\"name_to_cmc\"][\"Resplendent Marshal\"] = 3.0\r\n",
        "master_hash[\"name_to_cmc\"][\"Alrund's Epiphany\"] = 7.0\r\n",
        "\r\n",
        "# master_hash[\"url_to_name\"] = {v: k for k, v in master_hash[\"name_to_url\"].items()}"
      ],
      "execution_count": null,
      "outputs": []
    },
    {
      "cell_type": "markdown",
      "metadata": {
        "id": "XRbxQ5eLla7T"
      },
      "source": [
        "### All these manutal adjustments unfortunately made things messy, so the below code made sure the output of each \"url_to_name\" call is a list of urls, rather than a single string"
      ]
    },
    {
      "cell_type": "code",
      "metadata": {
        "id": "uvkjvsUljJNx"
      },
      "source": [
        "for key in master_hash[\"name_to_url\"]:\r\n",
        "  new_output = []\r\n",
        "  for item in master_hash[\"name_to_url\"][key]:\r\n",
        "    if (isinstance(item, str)):\r\n",
        "      new_output.append(item)\r\n",
        "    else:\r\n",
        "      for url in item:\r\n",
        "        new_output.append(url)\r\n",
        "  master_hash[\"name_to_url\"][key] = new_output"
      ],
      "execution_count": null,
      "outputs": []
    },
    {
      "cell_type": "code",
      "metadata": {
        "colab": {
          "base_uri": "https://localhost:8080/"
        },
        "id": "7g74-S5xjs2E",
        "outputId": "3d86896d-83eb-46bb-e1bc-8d0d1520dc2f"
      },
      "source": [
        "master_hash[\"name_to_url\"][\"Righteous Valkyrie\"]"
      ],
      "execution_count": null,
      "outputs": [
        {
          "output_type": "execute_result",
          "data": {
            "text/plain": [
              "['https://c1.scryfall.com/file/scryfall-cards/border_crop/front/0/2/02fb5f9f-8750-4eb5-a03a-6dacc60e0b90.jpg?1614475946',\n",
              " 'https://c1.scryfall.com/file/scryfall-cards/border_crop/front/0/2/02fb5f9f-8750-4eb5-a03a-6dacc60e0b90.jpg?1614985143',\n",
              " 'https://c1.scryfall.com/file/scryfall-cards/border_crop/front/0/2/02fb5f9f-8750-4eb5-a03a-6dacc60e0b90.jpg?1610996474',\n",
              " 'https://c1.scryfall.com/file/scryfall-cards/border_crop/front/0/2/02fb5f9f-8750-4eb5-a03a-6dacc60e0b90.jpg?1614475946']"
            ]
          },
          "metadata": {
            "tags": []
          },
          "execution_count": 25
        }
      ]
    },
    {
      "cell_type": "code",
      "metadata": {
        "id": "Y43itfkcM0KH"
      },
      "source": [
        "for key in master_hash[\"name_to_url\"]:\r\n",
        "    if key not in master_hash[\"name_to_cmc\"]:\r\n",
        "        print (key)"
      ],
      "execution_count": null,
      "outputs": []
    },
    {
      "cell_type": "code",
      "metadata": {
        "id": "BiXJWCGJy40D"
      },
      "source": [
        "def invert_dict(d): \r\n",
        "    inverse = dict() \r\n",
        "    for key in d: \r\n",
        "        # Go through the list that is saved in the dict:\r\n",
        "        if (isinstance(d[key], str)):\r\n",
        "          if d[key] not in inverse: \r\n",
        "            inverse[d[key]] = key\r\n",
        "        else:\r\n",
        "          for item in d[key]:\r\n",
        "              # Check if in the inverted dict the key exists\r\n",
        "              if item not in inverse: \r\n",
        "                  # If not create a new list\r\n",
        "                  inverse[item] = key\r\n",
        "    return inverse"
      ],
      "execution_count": null,
      "outputs": []
    },
    {
      "cell_type": "code",
      "metadata": {
        "colab": {
          "base_uri": "https://localhost:8080/"
        },
        "id": "lpNTRowTzlLd",
        "outputId": "ec032a20-3f64-49d9-a6b9-104a0088d4aa"
      },
      "source": [
        "master_hash[\"url_to_name\"] = invert_dict(master_hash[\"name_to_url\"])\r\n",
        "len(master_hash[\"url_to_name\"]), len(master_hash[\"name_to_url\"])"
      ],
      "execution_count": null,
      "outputs": [
        {
          "output_type": "execute_result",
          "data": {
            "text/plain": [
              "(542, 305)"
            ]
          },
          "metadata": {
            "tags": []
          },
          "execution_count": 28
        }
      ]
    },
    {
      "cell_type": "code",
      "metadata": {
        "id": "BoVG-gL-BVEH"
      },
      "source": [
        "master_hash[\"name_to_index\"] = {}\r\n",
        "master_hash[\"index_to_name\"] = {}\r\n",
        "array_of_names = []\r\n",
        "for key, value in master_hash[\"name_to_url\"].items():\r\n",
        "  array_of_names.append(key)\r\n",
        "for j in range(len(array_of_names)):\r\n",
        "  master_hash[\"name_to_index\"][array_of_names[j]] = j\r\n",
        "  master_hash[\"index_to_name\"][j] = array_of_names[j]"
      ],
      "execution_count": null,
      "outputs": []
    },
    {
      "cell_type": "code",
      "metadata": {
        "id": "H5vM8UMZn0xm"
      },
      "source": [
        "master_hash_save = open(\"/content/gdrive/MyDrive/Colab Notebooks/17_lands_scrapes/kaldheim/master_hash\", \"wb\")\r\n",
        "pickle.dump(master_hash, master_hash_save)\r\n",
        "master_hash_save.close()"
      ],
      "execution_count": null,
      "outputs": []
    },
    {
      "cell_type": "code",
      "metadata": {
        "id": "8o5TQq3fqIzo",
        "colab": {
          "base_uri": "https://localhost:8080/"
        },
        "outputId": "a01a6eee-832c-4552-bbdf-e713cc5a88fa"
      },
      "source": [
        "len(master_hash[\"name_to_index\"])"
      ],
      "execution_count": null,
      "outputs": [
        {
          "output_type": "execute_result",
          "data": {
            "text/plain": [
              "305"
            ]
          },
          "metadata": {
            "tags": []
          },
          "execution_count": 31
        }
      ]
    },
    {
      "cell_type": "markdown",
      "metadata": {
        "id": "R03AqWpyHUUI"
      },
      "source": [
        "### The code below was called once to create names for the card images saved in the image folder.  It is not used again"
      ]
    },
    {
      "cell_type": "code",
      "metadata": {
        "id": "cHUfYL2HJ1DN"
      },
      "source": [
        "# import urllib.request"
      ],
      "execution_count": null,
      "outputs": []
    },
    {
      "cell_type": "code",
      "metadata": {
        "id": "wIZ3q5ngHWwH"
      },
      "source": [
        "# urllib.request.urlretrieve(\"https://c1.scryfall.com/file/scryfall-cards/border_crop/front/0/c/0ce39a19-f51d-4a35-ae80-5b82eb15fcff.jpg?1608058149\", \"/content/gdrive/MyDrive/Colab Notebooks/17_lands_scrapes/kaldheim/card_images/test.jpg\")"
      ],
      "execution_count": null,
      "outputs": []
    },
    {
      "cell_type": "code",
      "metadata": {
        "id": "KrceUyGnJ3Fm"
      },
      "source": [
        "# for name in master_hash[\"name_to_url\"]:\r\n",
        "#   if (isinstance(master_hash[\"name_to_url\"][name], str)):\r\n",
        "#     card_name = copy.deepcopy(name)\r\n",
        "#     card_name = card_name.replace(\"/\", \"\")\r\n",
        "#     urllib.request.urlretrieve(master_hash[\"name_to_url\"][name], \"/content/gdrive/MyDrive/Colab Notebooks/17_lands_scrapes/kaldheim/card_images/\" + card_name + \".jpg\")\r\n",
        "#   else: \r\n",
        "#     card_name = copy.deepcopy(name)\r\n",
        "#     card_name = card_name.replace(\"/\", \"\")\r\n",
        "#     urllib.request.urlretrieve(master_hash[\"name_to_url\"][name][0], \"/content/gdrive/MyDrive/Colab Notebooks/17_lands_scrapes/kaldheim/card_images/\" + card_name + \".jpg\")"
      ],
      "execution_count": null,
      "outputs": []
    },
    {
      "cell_type": "code",
      "metadata": {
        "id": "H9TvmLAzKHYk"
      },
      "source": [
        ""
      ],
      "execution_count": null,
      "outputs": []
    }
  ]
}