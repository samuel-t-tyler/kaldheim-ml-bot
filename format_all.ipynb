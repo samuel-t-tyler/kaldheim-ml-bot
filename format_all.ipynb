{
  "nbformat": 4,
  "nbformat_minor": 0,
  "metadata": {
    "colab": {
      "name": "format_all.ipynb",
      "provenance": [],
      "collapsed_sections": [],
      "toc_visible": true,
      "include_colab_link": true
    },
    "kernelspec": {
      "name": "python3",
      "display_name": "Python 3"
    }
  },
  "cells": [
    {
      "cell_type": "markdown",
      "metadata": {
        "id": "view-in-github",
        "colab_type": "text"
      },
      "source": [
        "<a href=\"https://colab.research.google.com/github/thesamasaurus/kaldheim-ml-bot/blob/main/format_all.ipynb\" target=\"_parent\"><img src=\"https://colab.research.google.com/assets/colab-badge.svg\" alt=\"Open In Colab\"/></a>"
      ]
    },
    {
      "cell_type": "markdown",
      "metadata": {
        "id": "Pgc2U82e6atL"
      },
      "source": [
        "# Format all drafts into string and onehot representations\r\n"
      ]
    },
    {
      "cell_type": "markdown",
      "metadata": {
        "id": "OQcvRGdA6f5D"
      },
      "source": [
        "### Importing"
      ]
    },
    {
      "cell_type": "code",
      "metadata": {
        "id": "1tJXeYnCkx_m"
      },
      "source": [
        "import os\r\n",
        "import re\r\n",
        "import pandas as pd\r\n",
        "import copy\r\n",
        "import numpy as np\r\n",
        "import pickle\r\n",
        "import re\r\n",
        "from google.colab import drive\r\n",
        "import time"
      ],
      "execution_count": null,
      "outputs": []
    },
    {
      "cell_type": "markdown",
      "metadata": {
        "id": "UOS-oDKc6iL9"
      },
      "source": [
        "### Gathering Files"
      ]
    },
    {
      "cell_type": "code",
      "metadata": {
        "colab": {
          "base_uri": "https://localhost:8080/"
        },
        "id": "O2aOa7Sik3ed",
        "outputId": "068d949e-1afd-45ab-e152-df07734c76c3"
      },
      "source": [
        "drive.mount('/content/gdrive')"
      ],
      "execution_count": null,
      "outputs": [
        {
          "output_type": "stream",
          "text": [
            "Drive already mounted at /content/gdrive; to attempt to forcibly remount, call drive.mount(\"/content/gdrive\", force_remount=True).\n"
          ],
          "name": "stdout"
        }
      ]
    },
    {
      "cell_type": "code",
      "metadata": {
        "id": "tM_uSgRXtF9S"
      },
      "source": [
        "g = open(\"/content/gdrive/MyDrive/Colab Notebooks/17_lands_scrapes/kaldheim/master_hash\", \"rb\")\r\n",
        "master_hash = pickle.load(g)"
      ],
      "execution_count": null,
      "outputs": []
    },
    {
      "cell_type": "code",
      "metadata": {
        "colab": {
          "base_uri": "https://localhost:8080/"
        },
        "id": "SKRf0DEYt34z",
        "outputId": "9950d7c0-073f-4134-f60a-14dc4b3bcf21"
      },
      "source": [
        "master_hash[\"name_to_url\"][\"Frost Bite\"]"
      ],
      "execution_count": null,
      "outputs": [
        {
          "output_type": "execute_result",
          "data": {
            "text/plain": [
              "['https://c1.scryfall.com/file/scryfall-cards/border_crop/front/9/4/9423318a-c5a8-48d2-92f5-280d15a050a6.jpg?1610996863',\n",
              " 'https://c1.scryfall.com/file/scryfall-cards/border_crop/front/9/4/9423318a-c5a8-48d2-92f5-280d15a050a6.jpg?1614987802']"
            ]
          },
          "metadata": {
            "tags": []
          },
          "execution_count": 4
        }
      ]
    },
    {
      "cell_type": "code",
      "metadata": {
        "id": "cMsr-PnXlBZi"
      },
      "source": [
        "h = open(\"/content/gdrive/MyDrive/Colab Notebooks/17_lands_scrapes/kaldheim/all_scrapes\", \"rb\")\r\n",
        "all_scrapes = pickle.load(h)\r\n",
        "                     "
      ],
      "execution_count": null,
      "outputs": []
    },
    {
      "cell_type": "code",
      "metadata": {
        "id": "ovlI8U3yTHax",
        "colab": {
          "base_uri": "https://localhost:8080/",
          "height": 937
        },
        "outputId": "358a2818-1cf7-4022-9867-907aca4a48e5"
      },
      "source": [
        "all_scrapes"
      ],
      "execution_count": null,
      "outputs": [
        {
          "output_type": "execute_result",
          "data": {
            "text/html": [
              "<div>\n",
              "<style scoped>\n",
              "    .dataframe tbody tr th:only-of-type {\n",
              "        vertical-align: middle;\n",
              "    }\n",
              "\n",
              "    .dataframe tbody tr th {\n",
              "        vertical-align: top;\n",
              "    }\n",
              "\n",
              "    .dataframe thead th {\n",
              "        text-align: right;\n",
              "    }\n",
              "</style>\n",
              "<table border=\"1\" class=\"dataframe\">\n",
              "  <thead>\n",
              "    <tr style=\"text-align: right;\">\n",
              "      <th></th>\n",
              "      <th>pick_1</th>\n",
              "      <th>pick_2</th>\n",
              "      <th>pick_3</th>\n",
              "      <th>pick_4</th>\n",
              "      <th>pick_5</th>\n",
              "      <th>pick_6</th>\n",
              "      <th>pick_7</th>\n",
              "      <th>pick_8</th>\n",
              "      <th>pick_9</th>\n",
              "      <th>pick_10</th>\n",
              "      <th>pick_11</th>\n",
              "      <th>pick_12</th>\n",
              "      <th>pick_13</th>\n",
              "      <th>pick_14</th>\n",
              "      <th>pick_15</th>\n",
              "      <th>pick_16</th>\n",
              "      <th>pick_17</th>\n",
              "      <th>pick_18</th>\n",
              "      <th>pick_19</th>\n",
              "      <th>pick_20</th>\n",
              "      <th>pick_21</th>\n",
              "      <th>pick_22</th>\n",
              "      <th>pick_23</th>\n",
              "      <th>pick_24</th>\n",
              "      <th>pick_25</th>\n",
              "      <th>pick_26</th>\n",
              "      <th>pick_27</th>\n",
              "      <th>pick_28</th>\n",
              "      <th>pick_29</th>\n",
              "      <th>pick_30</th>\n",
              "      <th>pick_31</th>\n",
              "      <th>pick_32</th>\n",
              "      <th>pick_33</th>\n",
              "      <th>pick_34</th>\n",
              "      <th>pick_35</th>\n",
              "      <th>pick_36</th>\n",
              "      <th>pick_37</th>\n",
              "      <th>pick_38</th>\n",
              "      <th>pick_39</th>\n",
              "      <th>pick_40</th>\n",
              "      <th>pick_41</th>\n",
              "      <th>pick_42</th>\n",
              "      <th>pick_43</th>\n",
              "      <th>pick_44</th>\n",
              "    </tr>\n",
              "  </thead>\n",
              "  <tbody>\n",
              "    <tr>\n",
              "      <th>0</th>\n",
              "      <td>&lt;div class=\"card_slot\"&gt;&lt;div class=\"card_previe...</td>\n",
              "      <td>&lt;div class=\"card_slot\"&gt;&lt;div class=\"card_previe...</td>\n",
              "      <td>&lt;div class=\"card_slot\"&gt;&lt;div class=\"card_previe...</td>\n",
              "      <td>&lt;div class=\"card_slot\"&gt;&lt;div class=\"card_previe...</td>\n",
              "      <td>&lt;div class=\"card_slot\"&gt;&lt;div class=\"card_previe...</td>\n",
              "      <td>&lt;div class=\"card_slot\"&gt;&lt;div class=\"card_previe...</td>\n",
              "      <td>&lt;div class=\"card_slot\"&gt;&lt;div class=\"card_previe...</td>\n",
              "      <td>&lt;div class=\"card_slot\"&gt;&lt;div class=\"card_previe...</td>\n",
              "      <td>&lt;div class=\"card_slot\"&gt;&lt;div class=\"card_previe...</td>\n",
              "      <td>&lt;div class=\"card_slot\"&gt;&lt;div class=\"card_previe...</td>\n",
              "      <td>&lt;div class=\"card_slot\"&gt;&lt;div class=\"card_previe...</td>\n",
              "      <td>&lt;div class=\"card_slot\"&gt;&lt;div class=\"card_previe...</td>\n",
              "      <td>&lt;div class=\"card_slot\"&gt;&lt;div class=\"card_previe...</td>\n",
              "      <td>&lt;div class=\"card_slot\"&gt;&lt;div class=\"card_previe...</td>\n",
              "      <td>&lt;div class=\"card_slot\"&gt;&lt;div class=\"card_previe...</td>\n",
              "      <td>&lt;div class=\"card_slot\"&gt;&lt;div class=\"card_previe...</td>\n",
              "      <td>&lt;div class=\"card_slot\"&gt;&lt;div class=\"card_previe...</td>\n",
              "      <td>&lt;div class=\"card_slot\"&gt;&lt;div class=\"card_previe...</td>\n",
              "      <td>&lt;div class=\"card_slot\"&gt;&lt;div class=\"card_previe...</td>\n",
              "      <td>&lt;div class=\"card_slot\"&gt;&lt;div class=\"card_previe...</td>\n",
              "      <td>&lt;div class=\"card_slot\"&gt;&lt;div class=\"card_previe...</td>\n",
              "      <td>&lt;div class=\"card_slot\"&gt;&lt;div class=\"card_previe...</td>\n",
              "      <td>&lt;div class=\"card_slot\"&gt;&lt;div class=\"card_previe...</td>\n",
              "      <td>&lt;div class=\"card_slot\"&gt;&lt;div class=\"card_previe...</td>\n",
              "      <td>&lt;div class=\"card_slot\"&gt;&lt;div class=\"card_previe...</td>\n",
              "      <td>&lt;div class=\"card_slot\"&gt;&lt;div class=\"card_previe...</td>\n",
              "      <td>&lt;div class=\"card_slot\"&gt;&lt;div class=\"card_previe...</td>\n",
              "      <td>&lt;div class=\"card_slot\"&gt;&lt;div class=\"card_previe...</td>\n",
              "      <td>&lt;div class=\"card_slot\"&gt;&lt;div class=\"card_previe...</td>\n",
              "      <td>&lt;div class=\"card_slot\"&gt;&lt;div class=\"card_previe...</td>\n",
              "      <td>&lt;div class=\"card_slot\"&gt;&lt;div class=\"card_previe...</td>\n",
              "      <td>&lt;div class=\"card_slot\"&gt;&lt;div class=\"card_previe...</td>\n",
              "      <td>&lt;div class=\"card_slot\"&gt;&lt;div class=\"card_previe...</td>\n",
              "      <td>&lt;div class=\"card_slot\"&gt;&lt;div class=\"card_previe...</td>\n",
              "      <td>&lt;div class=\"card_slot\"&gt;&lt;div class=\"card_previe...</td>\n",
              "      <td>&lt;div class=\"card_slot\"&gt;&lt;div class=\"card_previe...</td>\n",
              "      <td>&lt;div class=\"card_slot\"&gt;&lt;div class=\"card_previe...</td>\n",
              "      <td>&lt;div class=\"card_slot\"&gt;&lt;div class=\"card_previe...</td>\n",
              "      <td>&lt;div class=\"card_slot\"&gt;&lt;div class=\"card_previe...</td>\n",
              "      <td>&lt;div class=\"card_slot\"&gt;&lt;div class=\"card_previe...</td>\n",
              "      <td>&lt;div class=\"card_slot\"&gt;&lt;div class=\"card_previe...</td>\n",
              "      <td>&lt;div class=\"card_slot\"&gt;&lt;div class=\"card_previe...</td>\n",
              "      <td>&lt;div class=\"card_slot\"&gt;&lt;div class=\"card_previe...</td>\n",
              "      <td>&lt;div class=\"card_slot\"&gt;&lt;div class=\"card_previe...</td>\n",
              "    </tr>\n",
              "    <tr>\n",
              "      <th>1</th>\n",
              "      <td>&lt;div class=\"card_slot\"&gt;&lt;div class=\"card_previe...</td>\n",
              "      <td>&lt;div class=\"card_slot\"&gt;&lt;div class=\"card_previe...</td>\n",
              "      <td>&lt;div class=\"card_slot\"&gt;&lt;div class=\"card_previe...</td>\n",
              "      <td>&lt;div class=\"card_slot\"&gt;&lt;div class=\"card_previe...</td>\n",
              "      <td>&lt;div class=\"card_slot\"&gt;&lt;div class=\"card_previe...</td>\n",
              "      <td>&lt;div class=\"card_slot\"&gt;&lt;div class=\"card_previe...</td>\n",
              "      <td>&lt;div class=\"card_slot\"&gt;&lt;div class=\"card_previe...</td>\n",
              "      <td>&lt;div class=\"card_slot\"&gt;&lt;div class=\"card_previe...</td>\n",
              "      <td>&lt;div class=\"card_slot\"&gt;&lt;div class=\"card_previe...</td>\n",
              "      <td>&lt;div class=\"card_slot\"&gt;&lt;div class=\"card_previe...</td>\n",
              "      <td>&lt;div class=\"card_slot\"&gt;&lt;div class=\"card_previe...</td>\n",
              "      <td>&lt;div class=\"card_slot\"&gt;&lt;div class=\"card_previe...</td>\n",
              "      <td>&lt;div class=\"card_slot\"&gt;&lt;div class=\"card_previe...</td>\n",
              "      <td>&lt;div class=\"card_slot\"&gt;&lt;div class=\"card_previe...</td>\n",
              "      <td>&lt;div class=\"card_slot\"&gt;&lt;div class=\"card_previe...</td>\n",
              "      <td>&lt;div class=\"card_slot\"&gt;&lt;div class=\"card_previe...</td>\n",
              "      <td>&lt;div class=\"card_slot\"&gt;&lt;div class=\"card_previe...</td>\n",
              "      <td>&lt;div class=\"card_slot\"&gt;&lt;div class=\"card_previe...</td>\n",
              "      <td>&lt;div class=\"card_slot\"&gt;&lt;div class=\"card_previe...</td>\n",
              "      <td>&lt;div class=\"card_slot\"&gt;&lt;div class=\"card_previe...</td>\n",
              "      <td>&lt;div class=\"card_slot\"&gt;&lt;div class=\"card_previe...</td>\n",
              "      <td>&lt;div class=\"card_slot\"&gt;&lt;div class=\"card_previe...</td>\n",
              "      <td>&lt;div class=\"card_slot\"&gt;&lt;div class=\"card_previe...</td>\n",
              "      <td>&lt;div class=\"card_slot\"&gt;&lt;div class=\"card_previe...</td>\n",
              "      <td>&lt;div class=\"card_slot\"&gt;&lt;div class=\"card_previe...</td>\n",
              "      <td>&lt;div class=\"card_slot\"&gt;&lt;div class=\"card_previe...</td>\n",
              "      <td>&lt;div class=\"card_slot\"&gt;&lt;div class=\"card_previe...</td>\n",
              "      <td>&lt;div class=\"card_slot\"&gt;&lt;div class=\"card_previe...</td>\n",
              "      <td>&lt;div class=\"card_slot\"&gt;&lt;div class=\"card_previe...</td>\n",
              "      <td>&lt;div class=\"card_slot\"&gt;&lt;div class=\"card_previe...</td>\n",
              "      <td>&lt;div class=\"card_slot\"&gt;&lt;div class=\"card_previe...</td>\n",
              "      <td>&lt;div class=\"card_slot\"&gt;&lt;div class=\"card_previe...</td>\n",
              "      <td>&lt;div class=\"card_slot\"&gt;&lt;div class=\"card_previe...</td>\n",
              "      <td>&lt;div class=\"card_slot\"&gt;&lt;div class=\"card_previe...</td>\n",
              "      <td>&lt;div class=\"card_slot\"&gt;&lt;div class=\"card_previe...</td>\n",
              "      <td>&lt;div class=\"card_slot\"&gt;&lt;div class=\"card_previe...</td>\n",
              "      <td>&lt;div class=\"card_slot\"&gt;&lt;div class=\"card_previe...</td>\n",
              "      <td>&lt;div class=\"card_slot\"&gt;&lt;div class=\"card_previe...</td>\n",
              "      <td>&lt;div class=\"card_slot\"&gt;&lt;div class=\"card_previe...</td>\n",
              "      <td>&lt;div class=\"card_slot\"&gt;&lt;div class=\"card_previe...</td>\n",
              "      <td>&lt;div class=\"card_slot\"&gt;&lt;div class=\"card_previe...</td>\n",
              "      <td>&lt;div class=\"card_slot\"&gt;&lt;div class=\"card_previe...</td>\n",
              "      <td>&lt;div class=\"card_slot\"&gt;&lt;div class=\"card_previe...</td>\n",
              "      <td>&lt;div class=\"card_slot\"&gt;&lt;div class=\"card_previe...</td>\n",
              "    </tr>\n",
              "    <tr>\n",
              "      <th>2</th>\n",
              "      <td>&lt;div class=\"card_slot\"&gt;&lt;div class=\"card_previe...</td>\n",
              "      <td>&lt;div class=\"card_slot\"&gt;&lt;div class=\"card_previe...</td>\n",
              "      <td>&lt;div class=\"card_slot\"&gt;&lt;div class=\"card_previe...</td>\n",
              "      <td>&lt;div class=\"card_slot\"&gt;&lt;div class=\"card_previe...</td>\n",
              "      <td>&lt;div class=\"card_slot\"&gt;&lt;div class=\"card_previe...</td>\n",
              "      <td>&lt;div class=\"card_slot\"&gt;&lt;div class=\"card_previe...</td>\n",
              "      <td>&lt;div class=\"card_slot\"&gt;&lt;div class=\"card_previe...</td>\n",
              "      <td>&lt;div class=\"card_slot\"&gt;&lt;div class=\"card_previe...</td>\n",
              "      <td>&lt;div class=\"card_slot\"&gt;&lt;div class=\"card_previe...</td>\n",
              "      <td>&lt;div class=\"card_slot\"&gt;&lt;div class=\"card_previe...</td>\n",
              "      <td>&lt;div class=\"card_slot\"&gt;&lt;div class=\"card_previe...</td>\n",
              "      <td>&lt;div class=\"card_slot\"&gt;&lt;div class=\"card_previe...</td>\n",
              "      <td>&lt;div class=\"card_slot\"&gt;&lt;div class=\"card_previe...</td>\n",
              "      <td>&lt;div class=\"card_slot\"&gt;&lt;div class=\"card_previe...</td>\n",
              "      <td>&lt;div class=\"card_slot\"&gt;&lt;div class=\"card_previe...</td>\n",
              "      <td>&lt;div class=\"card_slot\"&gt;&lt;div class=\"card_previe...</td>\n",
              "      <td>&lt;div class=\"card_slot\"&gt;&lt;div class=\"card_previe...</td>\n",
              "      <td>&lt;div class=\"card_slot\"&gt;&lt;div class=\"card_previe...</td>\n",
              "      <td>&lt;div class=\"card_slot\"&gt;&lt;div class=\"card_previe...</td>\n",
              "      <td>&lt;div class=\"card_slot\"&gt;&lt;div class=\"card_previe...</td>\n",
              "      <td>&lt;div class=\"card_slot\"&gt;&lt;div class=\"card_previe...</td>\n",
              "      <td>&lt;div class=\"card_slot\"&gt;&lt;div class=\"card_previe...</td>\n",
              "      <td>&lt;div class=\"card_slot\"&gt;&lt;div class=\"card_previe...</td>\n",
              "      <td>&lt;div class=\"card_slot\"&gt;&lt;div class=\"card_previe...</td>\n",
              "      <td>&lt;div class=\"card_slot\"&gt;&lt;div class=\"card_previe...</td>\n",
              "      <td>&lt;div class=\"card_slot\"&gt;&lt;div class=\"card_previe...</td>\n",
              "      <td>&lt;div class=\"card_slot\"&gt;&lt;div class=\"card_previe...</td>\n",
              "      <td>&lt;div class=\"card_slot\"&gt;&lt;div class=\"card_previe...</td>\n",
              "      <td>&lt;div class=\"card_slot\"&gt;&lt;div class=\"card_previe...</td>\n",
              "      <td>&lt;div class=\"card_slot\"&gt;&lt;div class=\"card_previe...</td>\n",
              "      <td>&lt;div class=\"card_slot\"&gt;&lt;div class=\"card_previe...</td>\n",
              "      <td>&lt;div class=\"card_slot\"&gt;&lt;div class=\"card_previe...</td>\n",
              "      <td>&lt;div class=\"card_slot\"&gt;&lt;div class=\"card_previe...</td>\n",
              "      <td>&lt;div class=\"card_slot\"&gt;&lt;div class=\"card_previe...</td>\n",
              "      <td>&lt;div class=\"card_slot\"&gt;&lt;div class=\"card_previe...</td>\n",
              "      <td>&lt;div class=\"card_slot\"&gt;&lt;div class=\"card_previe...</td>\n",
              "      <td>&lt;div class=\"card_slot\"&gt;&lt;div class=\"card_previe...</td>\n",
              "      <td>&lt;div class=\"card_slot\"&gt;&lt;div class=\"card_previe...</td>\n",
              "      <td>&lt;div class=\"card_slot\"&gt;&lt;div class=\"card_previe...</td>\n",
              "      <td>&lt;div class=\"card_slot\"&gt;&lt;div class=\"card_previe...</td>\n",
              "      <td>&lt;div class=\"card_slot\"&gt;&lt;div class=\"card_previe...</td>\n",
              "      <td>&lt;div class=\"card_slot\"&gt;&lt;div class=\"card_previe...</td>\n",
              "      <td>&lt;div class=\"card_slot\"&gt;&lt;div class=\"card_previe...</td>\n",
              "      <td>&lt;div class=\"card_slot\"&gt;&lt;div class=\"card_previe...</td>\n",
              "    </tr>\n",
              "    <tr>\n",
              "      <th>3</th>\n",
              "      <td>&lt;div class=\"card_slot\"&gt;&lt;div class=\"card_previe...</td>\n",
              "      <td>&lt;div class=\"card_slot\"&gt;&lt;div class=\"card_previe...</td>\n",
              "      <td>&lt;div class=\"card_slot\"&gt;&lt;div class=\"card_previe...</td>\n",
              "      <td>&lt;div class=\"card_slot\"&gt;&lt;div class=\"card_previe...</td>\n",
              "      <td>&lt;div class=\"card_slot\"&gt;&lt;div class=\"card_previe...</td>\n",
              "      <td>&lt;div class=\"card_slot\"&gt;&lt;div class=\"card_previe...</td>\n",
              "      <td>&lt;div class=\"card_slot\"&gt;&lt;div class=\"card_previe...</td>\n",
              "      <td>&lt;div class=\"card_slot\"&gt;&lt;div class=\"card_previe...</td>\n",
              "      <td>&lt;div class=\"card_slot\"&gt;&lt;div class=\"card_previe...</td>\n",
              "      <td>&lt;div class=\"card_slot\"&gt;&lt;div class=\"card_previe...</td>\n",
              "      <td>&lt;div class=\"card_slot\"&gt;&lt;div class=\"card_previe...</td>\n",
              "      <td>&lt;div class=\"card_slot\"&gt;&lt;div class=\"card_previe...</td>\n",
              "      <td>&lt;div class=\"card_slot\"&gt;&lt;div class=\"card_previe...</td>\n",
              "      <td>&lt;div class=\"card_slot\"&gt;&lt;div class=\"card_previe...</td>\n",
              "      <td>&lt;div class=\"card_slot\"&gt;&lt;div class=\"card_previe...</td>\n",
              "      <td>&lt;div class=\"card_slot\"&gt;&lt;div class=\"card_previe...</td>\n",
              "      <td>&lt;div class=\"card_slot\"&gt;&lt;div class=\"card_previe...</td>\n",
              "      <td>&lt;div class=\"card_slot\"&gt;&lt;div class=\"card_previe...</td>\n",
              "      <td>&lt;div class=\"card_slot\"&gt;&lt;div class=\"card_previe...</td>\n",
              "      <td>&lt;div class=\"card_slot\"&gt;&lt;div class=\"card_previe...</td>\n",
              "      <td>&lt;div class=\"card_slot\"&gt;&lt;div class=\"card_previe...</td>\n",
              "      <td>&lt;div class=\"card_slot\"&gt;&lt;div class=\"card_previe...</td>\n",
              "      <td>&lt;div class=\"card_slot\"&gt;&lt;div class=\"card_previe...</td>\n",
              "      <td>&lt;div class=\"card_slot\"&gt;&lt;div class=\"card_previe...</td>\n",
              "      <td>&lt;div class=\"card_slot\"&gt;&lt;div class=\"card_previe...</td>\n",
              "      <td>&lt;div class=\"card_slot\"&gt;&lt;div class=\"card_previe...</td>\n",
              "      <td>&lt;div class=\"card_slot\"&gt;&lt;div class=\"card_previe...</td>\n",
              "      <td>&lt;div class=\"card_slot\"&gt;&lt;div class=\"card_previe...</td>\n",
              "      <td>&lt;div class=\"card_slot\"&gt;&lt;div class=\"card_previe...</td>\n",
              "      <td>&lt;div class=\"card_slot\"&gt;&lt;div class=\"card_previe...</td>\n",
              "      <td>&lt;div class=\"card_slot\"&gt;&lt;div class=\"card_previe...</td>\n",
              "      <td>&lt;div class=\"card_slot\"&gt;&lt;div class=\"card_previe...</td>\n",
              "      <td>&lt;div class=\"card_slot\"&gt;&lt;div class=\"card_previe...</td>\n",
              "      <td>&lt;div class=\"card_slot\"&gt;&lt;div class=\"card_previe...</td>\n",
              "      <td>&lt;div class=\"card_slot\"&gt;&lt;div class=\"card_previe...</td>\n",
              "      <td>&lt;div class=\"card_slot\"&gt;&lt;div class=\"card_previe...</td>\n",
              "      <td>&lt;div class=\"card_slot\"&gt;&lt;div class=\"card_previe...</td>\n",
              "      <td>&lt;div class=\"card_slot\"&gt;&lt;div class=\"card_previe...</td>\n",
              "      <td>&lt;div class=\"card_slot\"&gt;&lt;div class=\"card_previe...</td>\n",
              "      <td>&lt;div class=\"card_slot\"&gt;&lt;div class=\"card_previe...</td>\n",
              "      <td>&lt;div class=\"card_slot\"&gt;&lt;div class=\"card_previe...</td>\n",
              "      <td>&lt;div class=\"card_slot\"&gt;&lt;div class=\"card_previe...</td>\n",
              "      <td>&lt;div class=\"card_slot\"&gt;&lt;div class=\"card_previe...</td>\n",
              "      <td>&lt;div class=\"card_slot\"&gt;&lt;div class=\"card_previe...</td>\n",
              "    </tr>\n",
              "    <tr>\n",
              "      <th>4</th>\n",
              "      <td>&lt;div class=\"card_slot\"&gt;&lt;div class=\"card_previe...</td>\n",
              "      <td>&lt;div class=\"card_slot\"&gt;&lt;div class=\"card_previe...</td>\n",
              "      <td>&lt;div class=\"card_slot\"&gt;&lt;div class=\"card_previe...</td>\n",
              "      <td>&lt;div class=\"card_slot\"&gt;&lt;div class=\"card_previe...</td>\n",
              "      <td>&lt;div class=\"card_slot\"&gt;&lt;div class=\"card_previe...</td>\n",
              "      <td>&lt;div class=\"card_slot\"&gt;&lt;div class=\"card_previe...</td>\n",
              "      <td>&lt;div class=\"card_slot\"&gt;&lt;div class=\"card_previe...</td>\n",
              "      <td>&lt;div class=\"card_slot\"&gt;&lt;div class=\"card_previe...</td>\n",
              "      <td>&lt;div class=\"card_slot\"&gt;&lt;div class=\"card_previe...</td>\n",
              "      <td>&lt;div class=\"card_slot\"&gt;&lt;div class=\"card_previe...</td>\n",
              "      <td>&lt;div class=\"card_slot\"&gt;&lt;div class=\"card_previe...</td>\n",
              "      <td>&lt;div class=\"card_slot\"&gt;&lt;div class=\"card_previe...</td>\n",
              "      <td>&lt;div class=\"card_slot\"&gt;&lt;div class=\"card_previe...</td>\n",
              "      <td>&lt;div class=\"card_slot\"&gt;&lt;div class=\"card_previe...</td>\n",
              "      <td>&lt;div class=\"card_slot\"&gt;&lt;div class=\"card_previe...</td>\n",
              "      <td>&lt;div class=\"card_slot\"&gt;&lt;div class=\"card_previe...</td>\n",
              "      <td>&lt;div class=\"card_slot\"&gt;&lt;div class=\"card_previe...</td>\n",
              "      <td>&lt;div class=\"card_slot\"&gt;&lt;div class=\"card_previe...</td>\n",
              "      <td>&lt;div class=\"card_slot\"&gt;&lt;div class=\"card_previe...</td>\n",
              "      <td>&lt;div class=\"card_slot\"&gt;&lt;div class=\"card_previe...</td>\n",
              "      <td>&lt;div class=\"card_slot\"&gt;&lt;div class=\"card_previe...</td>\n",
              "      <td>&lt;div class=\"card_slot\"&gt;&lt;div class=\"card_previe...</td>\n",
              "      <td>&lt;div class=\"card_slot\"&gt;&lt;div class=\"card_previe...</td>\n",
              "      <td>&lt;div class=\"card_slot\"&gt;&lt;div class=\"card_previe...</td>\n",
              "      <td>&lt;div class=\"card_slot\"&gt;&lt;div class=\"card_previe...</td>\n",
              "      <td>&lt;div class=\"card_slot\"&gt;&lt;div class=\"card_previe...</td>\n",
              "      <td>&lt;div class=\"card_slot\"&gt;&lt;div class=\"card_previe...</td>\n",
              "      <td>&lt;div class=\"card_slot\"&gt;&lt;div class=\"card_previe...</td>\n",
              "      <td>&lt;div class=\"card_slot\"&gt;&lt;div class=\"card_previe...</td>\n",
              "      <td>&lt;div class=\"card_slot\"&gt;&lt;div class=\"card_previe...</td>\n",
              "      <td>&lt;div class=\"card_slot\"&gt;&lt;div class=\"card_previe...</td>\n",
              "      <td>&lt;div class=\"card_slot\"&gt;&lt;div class=\"card_previe...</td>\n",
              "      <td>&lt;div class=\"card_slot\"&gt;&lt;div class=\"card_previe...</td>\n",
              "      <td>&lt;div class=\"card_slot\"&gt;&lt;div class=\"card_previe...</td>\n",
              "      <td>&lt;div class=\"card_slot\"&gt;&lt;div class=\"card_previe...</td>\n",
              "      <td>&lt;div class=\"card_slot\"&gt;&lt;div class=\"card_previe...</td>\n",
              "      <td>&lt;div class=\"card_slot\"&gt;&lt;div class=\"card_previe...</td>\n",
              "      <td>&lt;div class=\"card_slot\"&gt;&lt;div class=\"card_previe...</td>\n",
              "      <td>&lt;div class=\"card_slot\"&gt;&lt;div class=\"card_previe...</td>\n",
              "      <td>&lt;div class=\"card_slot\"&gt;&lt;div class=\"card_previe...</td>\n",
              "      <td>&lt;div class=\"card_slot\"&gt;&lt;div class=\"card_previe...</td>\n",
              "      <td>&lt;div class=\"card_slot\"&gt;&lt;div class=\"card_previe...</td>\n",
              "      <td>&lt;div class=\"card_slot\"&gt;&lt;div class=\"card_previe...</td>\n",
              "      <td>&lt;div class=\"card_slot\"&gt;&lt;div class=\"card_previe...</td>\n",
              "    </tr>\n",
              "    <tr>\n",
              "      <th>...</th>\n",
              "      <td>...</td>\n",
              "      <td>...</td>\n",
              "      <td>...</td>\n",
              "      <td>...</td>\n",
              "      <td>...</td>\n",
              "      <td>...</td>\n",
              "      <td>...</td>\n",
              "      <td>...</td>\n",
              "      <td>...</td>\n",
              "      <td>...</td>\n",
              "      <td>...</td>\n",
              "      <td>...</td>\n",
              "      <td>...</td>\n",
              "      <td>...</td>\n",
              "      <td>...</td>\n",
              "      <td>...</td>\n",
              "      <td>...</td>\n",
              "      <td>...</td>\n",
              "      <td>...</td>\n",
              "      <td>...</td>\n",
              "      <td>...</td>\n",
              "      <td>...</td>\n",
              "      <td>...</td>\n",
              "      <td>...</td>\n",
              "      <td>...</td>\n",
              "      <td>...</td>\n",
              "      <td>...</td>\n",
              "      <td>...</td>\n",
              "      <td>...</td>\n",
              "      <td>...</td>\n",
              "      <td>...</td>\n",
              "      <td>...</td>\n",
              "      <td>...</td>\n",
              "      <td>...</td>\n",
              "      <td>...</td>\n",
              "      <td>...</td>\n",
              "      <td>...</td>\n",
              "      <td>...</td>\n",
              "      <td>...</td>\n",
              "      <td>...</td>\n",
              "      <td>...</td>\n",
              "      <td>...</td>\n",
              "      <td>...</td>\n",
              "      <td>...</td>\n",
              "    </tr>\n",
              "    <tr>\n",
              "      <th>1032</th>\n",
              "      <td>&lt;div class=\"card_slot\"&gt;&lt;div class=\"card_previe...</td>\n",
              "      <td>&lt;div class=\"card_slot\"&gt;&lt;div class=\"card_previe...</td>\n",
              "      <td>&lt;div class=\"card_slot\"&gt;&lt;div class=\"card_previe...</td>\n",
              "      <td>&lt;div class=\"card_slot\"&gt;&lt;div class=\"card_previe...</td>\n",
              "      <td>&lt;div class=\"card_slot\"&gt;&lt;div class=\"card_previe...</td>\n",
              "      <td>&lt;div class=\"card_slot\"&gt;&lt;div class=\"card_previe...</td>\n",
              "      <td>&lt;div class=\"card_slot\"&gt;&lt;div class=\"card_previe...</td>\n",
              "      <td>&lt;div class=\"card_slot\"&gt;&lt;div class=\"card_previe...</td>\n",
              "      <td>&lt;div class=\"card_slot\"&gt;&lt;div class=\"card_previe...</td>\n",
              "      <td>&lt;div class=\"card_slot\"&gt;&lt;div class=\"card_previe...</td>\n",
              "      <td>&lt;div class=\"card_slot\"&gt;&lt;div class=\"card_previe...</td>\n",
              "      <td>&lt;div class=\"card_slot\"&gt;&lt;div class=\"card_previe...</td>\n",
              "      <td>&lt;div class=\"card_slot\"&gt;&lt;div class=\"card_previe...</td>\n",
              "      <td>&lt;div class=\"card_slot\"&gt;&lt;div class=\"card_previe...</td>\n",
              "      <td>&lt;div class=\"card_slot\"&gt;&lt;div class=\"card_previe...</td>\n",
              "      <td>&lt;div class=\"card_slot\"&gt;&lt;div class=\"card_previe...</td>\n",
              "      <td>&lt;div class=\"card_slot\"&gt;&lt;div class=\"card_previe...</td>\n",
              "      <td>&lt;div class=\"card_slot\"&gt;&lt;div class=\"card_previe...</td>\n",
              "      <td>&lt;div class=\"card_slot\"&gt;&lt;div class=\"card_previe...</td>\n",
              "      <td>&lt;div class=\"card_slot\"&gt;&lt;div class=\"card_previe...</td>\n",
              "      <td>&lt;div class=\"card_slot\"&gt;&lt;div class=\"card_previe...</td>\n",
              "      <td>&lt;div class=\"card_slot\"&gt;&lt;div class=\"card_previe...</td>\n",
              "      <td>&lt;div class=\"card_slot\"&gt;&lt;div class=\"card_previe...</td>\n",
              "      <td>&lt;div class=\"card_slot\"&gt;&lt;div class=\"card_previe...</td>\n",
              "      <td>&lt;div class=\"card_slot\"&gt;&lt;div class=\"card_previe...</td>\n",
              "      <td>&lt;div class=\"card_slot\"&gt;&lt;div class=\"card_previe...</td>\n",
              "      <td>&lt;div class=\"card_slot\"&gt;&lt;div class=\"card_previe...</td>\n",
              "      <td>&lt;div class=\"card_slot\"&gt;&lt;div class=\"card_previe...</td>\n",
              "      <td>&lt;div class=\"card_slot\"&gt;&lt;div class=\"card_previe...</td>\n",
              "      <td>&lt;div class=\"card_slot\"&gt;&lt;div class=\"card_previe...</td>\n",
              "      <td>&lt;div class=\"card_slot\"&gt;&lt;div class=\"card_previe...</td>\n",
              "      <td>&lt;div class=\"card_slot\"&gt;&lt;div class=\"card_previe...</td>\n",
              "      <td>&lt;div class=\"card_slot\"&gt;&lt;div class=\"card_previe...</td>\n",
              "      <td>&lt;div class=\"card_slot\"&gt;&lt;div class=\"card_previe...</td>\n",
              "      <td>&lt;div class=\"card_slot\"&gt;&lt;div class=\"card_previe...</td>\n",
              "      <td>&lt;div class=\"card_slot\"&gt;&lt;div class=\"card_previe...</td>\n",
              "      <td>&lt;div class=\"card_slot\"&gt;&lt;div class=\"card_previe...</td>\n",
              "      <td>&lt;div class=\"card_slot\"&gt;&lt;div class=\"card_previe...</td>\n",
              "      <td>&lt;div class=\"card_slot\"&gt;&lt;div class=\"card_previe...</td>\n",
              "      <td>&lt;div class=\"card_slot\"&gt;&lt;div class=\"card_previe...</td>\n",
              "      <td>&lt;div class=\"card_slot\"&gt;&lt;div class=\"card_previe...</td>\n",
              "      <td>&lt;div class=\"card_slot\"&gt;&lt;div class=\"card_previe...</td>\n",
              "      <td>&lt;div class=\"card_slot\"&gt;&lt;div class=\"card_previe...</td>\n",
              "      <td>&lt;div class=\"card_slot\"&gt;&lt;div class=\"card_previe...</td>\n",
              "    </tr>\n",
              "    <tr>\n",
              "      <th>1033</th>\n",
              "      <td>&lt;div class=\"card_slot\"&gt;&lt;div class=\"card_previe...</td>\n",
              "      <td>&lt;div class=\"card_slot\"&gt;&lt;div class=\"card_previe...</td>\n",
              "      <td>&lt;div class=\"card_slot\"&gt;&lt;div class=\"card_previe...</td>\n",
              "      <td>&lt;div class=\"card_slot\"&gt;&lt;div class=\"card_previe...</td>\n",
              "      <td>&lt;div class=\"card_slot\"&gt;&lt;div class=\"card_previe...</td>\n",
              "      <td>&lt;div class=\"card_slot\"&gt;&lt;div class=\"card_previe...</td>\n",
              "      <td>&lt;div class=\"card_slot\"&gt;&lt;div class=\"card_previe...</td>\n",
              "      <td>&lt;div class=\"card_slot\"&gt;&lt;div class=\"card_previe...</td>\n",
              "      <td>&lt;div class=\"card_slot\"&gt;&lt;div class=\"card_previe...</td>\n",
              "      <td>&lt;div class=\"card_slot\"&gt;&lt;div class=\"card_previe...</td>\n",
              "      <td>&lt;div class=\"card_slot\"&gt;&lt;div class=\"card_previe...</td>\n",
              "      <td>&lt;div class=\"card_slot\"&gt;&lt;div class=\"card_previe...</td>\n",
              "      <td>&lt;div class=\"card_slot\"&gt;&lt;div class=\"card_previe...</td>\n",
              "      <td>&lt;div class=\"card_slot\"&gt;&lt;div class=\"card_previe...</td>\n",
              "      <td>&lt;div class=\"card_slot\"&gt;&lt;div class=\"card_previe...</td>\n",
              "      <td>&lt;div class=\"card_slot\"&gt;&lt;div class=\"card_previe...</td>\n",
              "      <td>&lt;div class=\"card_slot\"&gt;&lt;div class=\"card_previe...</td>\n",
              "      <td>&lt;div class=\"card_slot\"&gt;&lt;div class=\"card_previe...</td>\n",
              "      <td>&lt;div class=\"card_slot\"&gt;&lt;div class=\"card_previe...</td>\n",
              "      <td>&lt;div class=\"card_slot\"&gt;&lt;div class=\"card_previe...</td>\n",
              "      <td>&lt;div class=\"card_slot\"&gt;&lt;div class=\"card_previe...</td>\n",
              "      <td>&lt;div class=\"card_slot\"&gt;&lt;div class=\"card_previe...</td>\n",
              "      <td>&lt;div class=\"card_slot\"&gt;&lt;div class=\"card_previe...</td>\n",
              "      <td>&lt;div class=\"card_slot\"&gt;&lt;div class=\"card_previe...</td>\n",
              "      <td>&lt;div class=\"card_slot\"&gt;&lt;div class=\"card_previe...</td>\n",
              "      <td>&lt;div class=\"card_slot\"&gt;&lt;div class=\"card_previe...</td>\n",
              "      <td>&lt;div class=\"card_slot\"&gt;&lt;div class=\"card_previe...</td>\n",
              "      <td>&lt;div class=\"card_slot\"&gt;&lt;div class=\"card_previe...</td>\n",
              "      <td>&lt;div class=\"card_slot\"&gt;&lt;div class=\"card_previe...</td>\n",
              "      <td>&lt;div class=\"card_slot\"&gt;&lt;div class=\"card_previe...</td>\n",
              "      <td>&lt;div class=\"card_slot\"&gt;&lt;div class=\"card_previe...</td>\n",
              "      <td>&lt;div class=\"card_slot\"&gt;&lt;div class=\"card_previe...</td>\n",
              "      <td>&lt;div class=\"card_slot\"&gt;&lt;div class=\"card_previe...</td>\n",
              "      <td>&lt;div class=\"card_slot\"&gt;&lt;div class=\"card_previe...</td>\n",
              "      <td>&lt;div class=\"card_slot\"&gt;&lt;div class=\"card_previe...</td>\n",
              "      <td>&lt;div class=\"card_slot\"&gt;&lt;div class=\"card_previe...</td>\n",
              "      <td>&lt;div class=\"card_slot\"&gt;&lt;div class=\"card_previe...</td>\n",
              "      <td>&lt;div class=\"card_slot\"&gt;&lt;div class=\"card_previe...</td>\n",
              "      <td>&lt;div class=\"card_slot\"&gt;&lt;div class=\"card_previe...</td>\n",
              "      <td>&lt;div class=\"card_slot\"&gt;&lt;div class=\"card_previe...</td>\n",
              "      <td>&lt;div class=\"card_slot\"&gt;&lt;div class=\"card_previe...</td>\n",
              "      <td>&lt;div class=\"card_slot\"&gt;&lt;div class=\"card_previe...</td>\n",
              "      <td>&lt;div class=\"card_slot\"&gt;&lt;div class=\"card_previe...</td>\n",
              "      <td>&lt;div class=\"card_slot\"&gt;&lt;div class=\"card_previe...</td>\n",
              "    </tr>\n",
              "    <tr>\n",
              "      <th>1034</th>\n",
              "      <td>&lt;div class=\"card_slot\"&gt;&lt;div class=\"card_previe...</td>\n",
              "      <td>&lt;div class=\"card_slot\"&gt;&lt;div class=\"card_previe...</td>\n",
              "      <td>&lt;div class=\"card_slot\"&gt;&lt;div class=\"card_previe...</td>\n",
              "      <td>&lt;div class=\"card_slot\"&gt;&lt;div class=\"card_previe...</td>\n",
              "      <td>&lt;div class=\"card_slot\"&gt;&lt;div class=\"card_previe...</td>\n",
              "      <td>&lt;div class=\"card_slot\"&gt;&lt;div class=\"card_previe...</td>\n",
              "      <td>&lt;div class=\"card_slot\"&gt;&lt;div class=\"card_previe...</td>\n",
              "      <td>&lt;div class=\"card_slot\"&gt;&lt;div class=\"card_previe...</td>\n",
              "      <td>&lt;div class=\"card_slot\"&gt;&lt;div class=\"card_previe...</td>\n",
              "      <td>&lt;div class=\"card_slot\"&gt;&lt;div class=\"card_previe...</td>\n",
              "      <td>&lt;div class=\"card_slot\"&gt;&lt;div class=\"card_previe...</td>\n",
              "      <td>&lt;div class=\"card_slot\"&gt;&lt;div class=\"card_previe...</td>\n",
              "      <td>&lt;div class=\"card_slot\"&gt;&lt;div class=\"card_previe...</td>\n",
              "      <td>&lt;div class=\"card_slot\"&gt;&lt;div class=\"card_previe...</td>\n",
              "      <td>&lt;div class=\"card_slot\"&gt;&lt;div class=\"card_previe...</td>\n",
              "      <td>&lt;div class=\"card_slot\"&gt;&lt;div class=\"card_previe...</td>\n",
              "      <td>&lt;div class=\"card_slot\"&gt;&lt;div class=\"card_previe...</td>\n",
              "      <td>&lt;div class=\"card_slot\"&gt;&lt;div class=\"card_previe...</td>\n",
              "      <td>&lt;div class=\"card_slot\"&gt;&lt;div class=\"card_previe...</td>\n",
              "      <td>&lt;div class=\"card_slot\"&gt;&lt;div class=\"card_previe...</td>\n",
              "      <td>&lt;div class=\"card_slot\"&gt;&lt;div class=\"card_previe...</td>\n",
              "      <td>&lt;div class=\"card_slot\"&gt;&lt;div class=\"card_previe...</td>\n",
              "      <td>&lt;div class=\"card_slot\"&gt;&lt;div class=\"card_previe...</td>\n",
              "      <td>&lt;div class=\"card_slot\"&gt;&lt;div class=\"card_previe...</td>\n",
              "      <td>&lt;div class=\"card_slot\"&gt;&lt;div class=\"card_previe...</td>\n",
              "      <td>&lt;div class=\"card_slot\"&gt;&lt;div class=\"card_previe...</td>\n",
              "      <td>&lt;div class=\"card_slot\"&gt;&lt;div class=\"card_previe...</td>\n",
              "      <td>&lt;div class=\"card_slot\"&gt;&lt;div class=\"card_previe...</td>\n",
              "      <td>&lt;div class=\"card_slot\"&gt;&lt;div class=\"card_previe...</td>\n",
              "      <td>&lt;div class=\"card_slot\"&gt;&lt;div class=\"card_previe...</td>\n",
              "      <td>&lt;div class=\"card_slot\"&gt;&lt;div class=\"card_previe...</td>\n",
              "      <td>&lt;div class=\"card_slot\"&gt;&lt;div class=\"card_previe...</td>\n",
              "      <td>&lt;div class=\"card_slot\"&gt;&lt;div class=\"card_previe...</td>\n",
              "      <td>&lt;div class=\"card_slot\"&gt;&lt;div class=\"card_previe...</td>\n",
              "      <td>&lt;div class=\"card_slot\"&gt;&lt;div class=\"card_previe...</td>\n",
              "      <td>&lt;div class=\"card_slot\"&gt;&lt;div class=\"card_previe...</td>\n",
              "      <td>&lt;div class=\"card_slot\"&gt;&lt;div class=\"card_previe...</td>\n",
              "      <td>&lt;div class=\"card_slot\"&gt;&lt;div class=\"card_previe...</td>\n",
              "      <td>&lt;div class=\"card_slot\"&gt;&lt;div class=\"card_previe...</td>\n",
              "      <td>&lt;div class=\"card_slot\"&gt;&lt;div class=\"card_previe...</td>\n",
              "      <td>&lt;div class=\"card_slot\"&gt;&lt;div class=\"card_previe...</td>\n",
              "      <td>&lt;div class=\"card_slot\"&gt;&lt;div class=\"card_previe...</td>\n",
              "      <td>&lt;div class=\"card_slot\"&gt;&lt;div class=\"card_previe...</td>\n",
              "      <td>&lt;div class=\"card_slot\"&gt;&lt;div class=\"card_previe...</td>\n",
              "    </tr>\n",
              "    <tr>\n",
              "      <th>1035</th>\n",
              "      <td>&lt;div class=\"card_slot\"&gt;&lt;div class=\"card_previe...</td>\n",
              "      <td>&lt;div class=\"card_slot\"&gt;&lt;div class=\"card_previe...</td>\n",
              "      <td>&lt;div class=\"card_slot\"&gt;&lt;div class=\"card_previe...</td>\n",
              "      <td>&lt;div class=\"card_slot\"&gt;&lt;div class=\"card_previe...</td>\n",
              "      <td>&lt;div class=\"card_slot\"&gt;&lt;div class=\"card_previe...</td>\n",
              "      <td>&lt;div class=\"card_slot\"&gt;&lt;div class=\"card_previe...</td>\n",
              "      <td>&lt;div class=\"card_slot\"&gt;&lt;div class=\"card_previe...</td>\n",
              "      <td>&lt;div class=\"card_slot\"&gt;&lt;div class=\"card_previe...</td>\n",
              "      <td>&lt;div class=\"card_slot\"&gt;&lt;div class=\"card_previe...</td>\n",
              "      <td>&lt;div class=\"card_slot\"&gt;&lt;div class=\"card_previe...</td>\n",
              "      <td>&lt;div class=\"card_slot\"&gt;&lt;div class=\"card_previe...</td>\n",
              "      <td>&lt;div class=\"card_slot\"&gt;&lt;div class=\"card_previe...</td>\n",
              "      <td>&lt;div class=\"card_slot\"&gt;&lt;div class=\"card_previe...</td>\n",
              "      <td>&lt;div class=\"card_slot\"&gt;&lt;div class=\"card_previe...</td>\n",
              "      <td>&lt;div class=\"card_slot\"&gt;&lt;div class=\"card_previe...</td>\n",
              "      <td>&lt;div class=\"card_slot\"&gt;&lt;div class=\"card_previe...</td>\n",
              "      <td>&lt;div class=\"card_slot\"&gt;&lt;div class=\"card_previe...</td>\n",
              "      <td>&lt;div class=\"card_slot\"&gt;&lt;div class=\"card_previe...</td>\n",
              "      <td>&lt;div class=\"card_slot\"&gt;&lt;div class=\"card_previe...</td>\n",
              "      <td>&lt;div class=\"card_slot\"&gt;&lt;div class=\"card_previe...</td>\n",
              "      <td>&lt;div class=\"card_slot\"&gt;&lt;div class=\"card_previe...</td>\n",
              "      <td>&lt;div class=\"card_slot\"&gt;&lt;div class=\"card_previe...</td>\n",
              "      <td>&lt;div class=\"card_slot\"&gt;&lt;div class=\"card_previe...</td>\n",
              "      <td>&lt;div class=\"card_slot\"&gt;&lt;div class=\"card_previe...</td>\n",
              "      <td>&lt;div class=\"card_slot\"&gt;&lt;div class=\"card_previe...</td>\n",
              "      <td>&lt;div class=\"card_slot\"&gt;&lt;div class=\"card_previe...</td>\n",
              "      <td>&lt;div class=\"card_slot\"&gt;&lt;div class=\"card_previe...</td>\n",
              "      <td>&lt;div class=\"card_slot\"&gt;&lt;div class=\"card_previe...</td>\n",
              "      <td>&lt;div class=\"card_slot\"&gt;&lt;div class=\"card_previe...</td>\n",
              "      <td>&lt;div class=\"card_slot\"&gt;&lt;div class=\"card_previe...</td>\n",
              "      <td>&lt;div class=\"card_slot\"&gt;&lt;div class=\"card_previe...</td>\n",
              "      <td>&lt;div class=\"card_slot\"&gt;&lt;div class=\"card_previe...</td>\n",
              "      <td>&lt;div class=\"card_slot\"&gt;&lt;div class=\"card_previe...</td>\n",
              "      <td>&lt;div class=\"card_slot\"&gt;&lt;div class=\"card_previe...</td>\n",
              "      <td>&lt;div class=\"card_slot\"&gt;&lt;div class=\"card_previe...</td>\n",
              "      <td>&lt;div class=\"card_slot\"&gt;&lt;div class=\"card_previe...</td>\n",
              "      <td>&lt;div class=\"card_slot\"&gt;&lt;div class=\"card_previe...</td>\n",
              "      <td>&lt;div class=\"card_slot\"&gt;&lt;div class=\"card_previe...</td>\n",
              "      <td>&lt;div class=\"card_slot\"&gt;&lt;div class=\"card_previe...</td>\n",
              "      <td>&lt;div class=\"card_slot\"&gt;&lt;div class=\"card_previe...</td>\n",
              "      <td>&lt;div class=\"card_slot\"&gt;&lt;div class=\"card_previe...</td>\n",
              "      <td>&lt;div class=\"card_slot\"&gt;&lt;div class=\"card_previe...</td>\n",
              "      <td>&lt;div class=\"card_slot\"&gt;&lt;div class=\"card_previe...</td>\n",
              "      <td>&lt;div class=\"card_slot\"&gt;&lt;div class=\"card_previe...</td>\n",
              "    </tr>\n",
              "    <tr>\n",
              "      <th>1036</th>\n",
              "      <td>&lt;div class=\"card_slot\"&gt;&lt;div class=\"card_previe...</td>\n",
              "      <td>&lt;div class=\"card_slot\"&gt;&lt;div class=\"card_previe...</td>\n",
              "      <td>&lt;div class=\"card_slot\"&gt;&lt;div class=\"card_previe...</td>\n",
              "      <td>&lt;div class=\"card_slot\"&gt;&lt;div class=\"card_previe...</td>\n",
              "      <td>&lt;div class=\"card_slot\"&gt;&lt;div class=\"card_previe...</td>\n",
              "      <td>&lt;div class=\"card_slot\"&gt;&lt;div class=\"card_previe...</td>\n",
              "      <td>&lt;div class=\"card_slot\"&gt;&lt;div class=\"card_previe...</td>\n",
              "      <td>&lt;div class=\"card_slot\"&gt;&lt;div class=\"card_previe...</td>\n",
              "      <td>&lt;div class=\"card_slot\"&gt;&lt;div class=\"card_previe...</td>\n",
              "      <td>&lt;div class=\"card_slot\"&gt;&lt;div class=\"card_previe...</td>\n",
              "      <td>&lt;div class=\"card_slot\"&gt;&lt;div class=\"card_previe...</td>\n",
              "      <td>&lt;div class=\"card_slot\"&gt;&lt;div class=\"card_previe...</td>\n",
              "      <td>&lt;div class=\"card_slot\"&gt;&lt;div class=\"card_previe...</td>\n",
              "      <td>&lt;div class=\"card_slot\"&gt;&lt;div class=\"card_previe...</td>\n",
              "      <td>&lt;div class=\"card_slot\"&gt;&lt;div class=\"card_previe...</td>\n",
              "      <td>&lt;div class=\"card_slot\"&gt;&lt;div class=\"card_previe...</td>\n",
              "      <td>&lt;div class=\"card_slot\"&gt;&lt;div class=\"card_previe...</td>\n",
              "      <td>&lt;div class=\"card_slot\"&gt;&lt;div class=\"card_previe...</td>\n",
              "      <td>&lt;div class=\"card_slot\"&gt;&lt;div class=\"card_previe...</td>\n",
              "      <td>&lt;div class=\"card_slot\"&gt;&lt;div class=\"card_previe...</td>\n",
              "      <td>&lt;div class=\"card_slot\"&gt;&lt;div class=\"card_previe...</td>\n",
              "      <td>&lt;div class=\"card_slot\"&gt;&lt;div class=\"card_previe...</td>\n",
              "      <td>&lt;div class=\"card_slot\"&gt;&lt;div class=\"card_previe...</td>\n",
              "      <td>&lt;div class=\"card_slot\"&gt;&lt;div class=\"card_previe...</td>\n",
              "      <td>&lt;div class=\"card_slot\"&gt;&lt;div class=\"card_previe...</td>\n",
              "      <td>&lt;div class=\"card_slot\"&gt;&lt;div class=\"card_previe...</td>\n",
              "      <td>&lt;div class=\"card_slot\"&gt;&lt;div class=\"card_previe...</td>\n",
              "      <td>&lt;div class=\"card_slot\"&gt;&lt;div class=\"card_previe...</td>\n",
              "      <td>&lt;div class=\"card_slot\"&gt;&lt;div class=\"card_previe...</td>\n",
              "      <td>&lt;div class=\"card_slot\"&gt;&lt;div class=\"card_previe...</td>\n",
              "      <td>&lt;div class=\"card_slot\"&gt;&lt;div class=\"card_previe...</td>\n",
              "      <td>&lt;div class=\"card_slot\"&gt;&lt;div class=\"card_previe...</td>\n",
              "      <td>&lt;div class=\"card_slot\"&gt;&lt;div class=\"card_previe...</td>\n",
              "      <td>&lt;div class=\"card_slot\"&gt;&lt;div class=\"card_previe...</td>\n",
              "      <td>&lt;div class=\"card_slot\"&gt;&lt;div class=\"card_previe...</td>\n",
              "      <td>&lt;div class=\"card_slot\"&gt;&lt;div class=\"card_previe...</td>\n",
              "      <td>&lt;div class=\"card_slot\"&gt;&lt;div class=\"card_previe...</td>\n",
              "      <td>&lt;div class=\"card_slot\"&gt;&lt;div class=\"card_previe...</td>\n",
              "      <td>&lt;div class=\"card_slot\"&gt;&lt;div class=\"card_previe...</td>\n",
              "      <td>&lt;div class=\"card_slot\"&gt;&lt;div class=\"card_previe...</td>\n",
              "      <td>&lt;div class=\"card_slot\"&gt;&lt;div class=\"card_previe...</td>\n",
              "      <td>&lt;div class=\"card_slot\"&gt;&lt;div class=\"card_previe...</td>\n",
              "      <td>&lt;div class=\"card_slot\"&gt;&lt;div class=\"card_previe...</td>\n",
              "      <td>&lt;div class=\"card_slot\"&gt;&lt;div class=\"card_previe...</td>\n",
              "    </tr>\n",
              "  </tbody>\n",
              "</table>\n",
              "<p>1037 rows × 44 columns</p>\n",
              "</div>"
            ],
            "text/plain": [
              "                                                 pick_1  ...                                            pick_44\n",
              "0     <div class=\"card_slot\"><div class=\"card_previe...  ...  <div class=\"card_slot\"><div class=\"card_previe...\n",
              "1     <div class=\"card_slot\"><div class=\"card_previe...  ...  <div class=\"card_slot\"><div class=\"card_previe...\n",
              "2     <div class=\"card_slot\"><div class=\"card_previe...  ...  <div class=\"card_slot\"><div class=\"card_previe...\n",
              "3     <div class=\"card_slot\"><div class=\"card_previe...  ...  <div class=\"card_slot\"><div class=\"card_previe...\n",
              "4     <div class=\"card_slot\"><div class=\"card_previe...  ...  <div class=\"card_slot\"><div class=\"card_previe...\n",
              "...                                                 ...  ...                                                ...\n",
              "1032  <div class=\"card_slot\"><div class=\"card_previe...  ...  <div class=\"card_slot\"><div class=\"card_previe...\n",
              "1033  <div class=\"card_slot\"><div class=\"card_previe...  ...  <div class=\"card_slot\"><div class=\"card_previe...\n",
              "1034  <div class=\"card_slot\"><div class=\"card_previe...  ...  <div class=\"card_slot\"><div class=\"card_previe...\n",
              "1035  <div class=\"card_slot\"><div class=\"card_previe...  ...  <div class=\"card_slot\"><div class=\"card_previe...\n",
              "1036  <div class=\"card_slot\"><div class=\"card_previe...  ...  <div class=\"card_slot\"><div class=\"card_previe...\n",
              "\n",
              "[1037 rows x 44 columns]"
            ]
          },
          "metadata": {
            "tags": []
          },
          "execution_count": 6
        }
      ]
    },
    {
      "cell_type": "markdown",
      "metadata": {
        "id": "zvgYP4_ZZ7mR"
      },
      "source": [
        "### Dropping dead drafts missed in cleaning"
      ]
    },
    {
      "cell_type": "code",
      "metadata": {
        "id": "x2sgcan_Z7Jn"
      },
      "source": [
        "all_scrapes = all_scrapes.drop([184, 289, 612, 634, 867])\r\n",
        "all_scrapes = all_scrapes.reset_index(drop=True)"
      ],
      "execution_count": null,
      "outputs": []
    },
    {
      "cell_type": "markdown",
      "metadata": {
        "id": "cNRjMVHm6tJs"
      },
      "source": [
        "### Making list of all picks"
      ]
    },
    {
      "cell_type": "code",
      "metadata": {
        "id": "g-5Ou3uI3Gi1"
      },
      "source": [
        "def create_full_draft(dataframe, draft):\r\n",
        "  draft_arr = []\r\n",
        "  for i in range(len(dataframe.columns)):\r\n",
        "    draft_arr.append(dataframe[\"pick_\" + str(i+1)][draft])\r\n",
        "  return draft_arr"
      ],
      "execution_count": null,
      "outputs": []
    },
    {
      "cell_type": "code",
      "metadata": {
        "id": "5MC80IRv6A-6"
      },
      "source": [
        "draft_one_full = create_full_draft(all_scrapes, 0)"
      ],
      "execution_count": null,
      "outputs": []
    },
    {
      "cell_type": "markdown",
      "metadata": {
        "id": "9liSMP_O6yiX"
      },
      "source": [
        "### Defining regex to turn string into list of urls"
      ]
    },
    {
      "cell_type": "code",
      "metadata": {
        "id": "HPG8YK4NlhGc"
      },
      "source": [
        "def take_regex_of_draft(draft_array):\r\n",
        "  pack_array = []\r\n",
        "  pick_array = []\r\n",
        "  for i in range(len(draft_array)):\r\n",
        "    # generating packs\r\n",
        "    pack_clean = []\r\n",
        "    # print(\"pick:\", i)\r\n",
        "    pack_dirty = re.findall(\"src=[a-zA-Z0-9~@#$^*()_+=[\\]{}|\\\\,.?: \\\"\\'/-]*\", draft_array[i])\r\n",
        "    for j in range(len(pack_dirty)):\r\n",
        "      if (j % 2 == 0):\r\n",
        "        pack_clean.append(pack_dirty[j][5:-1])\r\n",
        "\r\n",
        "    #generating picks\r\n",
        "    pick_dirty = re.findall(\"over pick\\\" src=[a-zA-Z0-9~@#$^*()_+=[\\]{}|\\\\,.?: \\\"\\'/-]*\", draft_array[i])\r\n",
        "    pick_clean = pick_dirty[0][16:-1]\r\n",
        "\r\n",
        "    #appending output\r\n",
        "    pack_array.append(pack_clean)\r\n",
        "    pick_array.append(pick_clean)\r\n",
        "  return pack_array, pick_array"
      ],
      "execution_count": null,
      "outputs": []
    },
    {
      "cell_type": "code",
      "metadata": {
        "id": "Ojvam3h97iIS"
      },
      "source": [
        "pack_array, pick_array = take_regex_of_draft(draft_one_full)"
      ],
      "execution_count": null,
      "outputs": []
    },
    {
      "cell_type": "code",
      "metadata": {
        "colab": {
          "base_uri": "https://localhost:8080/"
        },
        "id": "hwkmYBMvQ_mY",
        "outputId": "3fe19672-2be7-4565-d3b2-6020b76aec4e"
      },
      "source": [
        "pack_array[43]"
      ],
      "execution_count": null,
      "outputs": [
        {
          "output_type": "execute_result",
          "data": {
            "text/plain": [
              "['https://c1.scryfall.com/file/scryfall-cards/border_crop/front/e/4/e4802e6c-6921-4dac-bf44-7e09d6942b71.jpg?1610586564',\n",
              " 'https://c1.scryfall.com/file/scryfall-cards/border_crop/front/3/f/3f23c487-ac4a-475b-ad5e-ec6f8678e668.jpg?1611054452']"
            ]
          },
          "metadata": {
            "tags": []
          },
          "execution_count": 12
        }
      ]
    },
    {
      "cell_type": "markdown",
      "metadata": {
        "id": "u7PyApgE91j-"
      },
      "source": [
        "### Creating pool array for each pick\r\n",
        "\r\n"
      ]
    },
    {
      "cell_type": "code",
      "metadata": {
        "id": "f33gbU8o91CB"
      },
      "source": [
        "def create_pools(pick_array):\r\n",
        "  pool_array = [[]]\r\n",
        "  for i in range(len(pick_array)):\r\n",
        "    current_pool = pool_array[i]\r\n",
        "    new_pool = copy.deepcopy(current_pool)\r\n",
        "    new_pool.append(pick_array[i])\r\n",
        "    pool_array.append(new_pool)\r\n",
        "  return pool_array"
      ],
      "execution_count": null,
      "outputs": []
    },
    {
      "cell_type": "code",
      "metadata": {
        "id": "9gRY54ct_WCA"
      },
      "source": [
        "pool_array = create_pools(pick_array)"
      ],
      "execution_count": null,
      "outputs": []
    },
    {
      "cell_type": "code",
      "metadata": {
        "colab": {
          "base_uri": "https://localhost:8080/"
        },
        "id": "g70ydPmC_ZAk",
        "outputId": "e8f49cd2-626d-428a-f96e-ba32b6f18fbe"
      },
      "source": [
        "pool_array[2]"
      ],
      "execution_count": null,
      "outputs": [
        {
          "output_type": "execute_result",
          "data": {
            "text/plain": [
              "['https://c1.scryfall.com/file/scryfall-cards/border_crop/front/1/4/14dc88ee-bba9-4625-af0d-89f3762a0ead.jpg?1610586381',\n",
              " 'https://c1.scryfall.com/file/scryfall-cards/border_crop/front/4/5/455ae615-20d7-4251-828d-72a3345d06f1.jpg?1610996855']"
            ]
          },
          "metadata": {
            "tags": []
          },
          "execution_count": 15
        }
      ]
    },
    {
      "cell_type": "markdown",
      "metadata": {
        "id": "Oet31lTYB5vd"
      },
      "source": [
        "### Create master draft dict"
      ]
    },
    {
      "cell_type": "code",
      "metadata": {
        "id": "dEnC2dq6B5RM"
      },
      "source": [
        "def create_master_draft_dict(num_of_drafts):\r\n",
        "  master_dict = {}\r\n",
        "  for i in range(num_of_drafts):\r\n",
        "    master_dict[\"draft_\" + str(i)] = {}\r\n",
        "    for j in range(1, 45):\r\n",
        "      master_dict[\"draft_\" + str(i)][\"pick_\" + str(j)] = {}\r\n",
        "  return master_dict"
      ],
      "execution_count": null,
      "outputs": []
    },
    {
      "cell_type": "markdown",
      "metadata": {
        "id": "ceMJDLva_gqd"
      },
      "source": [
        "### Turning array into string\r\n",
        "\r\n"
      ]
    },
    {
      "cell_type": "code",
      "metadata": {
        "id": "SEVVUP7S_uem"
      },
      "source": [
        "def urls_to_strings_pack(array_of_urls, string_dict_name, master_draft_dict, draft_num):\r\n",
        "  for i in range(0, 44):\r\n",
        "    string_rep = []\r\n",
        "    for url in array_of_urls[i]:\r\n",
        "      if url in master_hash[\"url_to_name\"].keys():\r\n",
        "        string_rep.append(master_hash[\"url_to_name\"][url])\r\n",
        "      else:\r\n",
        "        missing_urls[url] = \"\"\r\n",
        "    master_draft_dict[\"draft_\" + str(draft_num)][\"pick_\" + str(i+1)][string_dict_name] = string_rep\r\n",
        "  return "
      ],
      "execution_count": null,
      "outputs": []
    },
    {
      "cell_type": "code",
      "metadata": {
        "id": "BD8QRRxT9kTs"
      },
      "source": [
        "missing_urls = {}"
      ],
      "execution_count": null,
      "outputs": []
    },
    {
      "cell_type": "code",
      "metadata": {
        "id": "5sL2uFOuygit"
      },
      "source": [
        "def urls_to_strings_pick(array_of_urls, string_dict_name, master_draft_dict, draft_num):\r\n",
        "  for pick in range(0, 44):\r\n",
        "    string_rep = []\r\n",
        "    if array_of_urls[pick] in master_hash[\"url_to_name\"].keys():\r\n",
        "      string_rep.append(master_hash[\"url_to_name\"][array_of_urls[pick]])\r\n",
        "    else:\r\n",
        "      missing_urls[array_of_urls[pick]] = \"\"\r\n",
        "    master_draft_dict[\"draft_\" + str(draft_num)][\"pick_\" + str(pick+1)][string_dict_name] = string_rep\r\n",
        "  return "
      ],
      "execution_count": null,
      "outputs": []
    },
    {
      "cell_type": "code",
      "metadata": {
        "id": "tcJ4KMOohAI3"
      },
      "source": [
        "def build_all_drafts(dataframe):\r\n",
        "  master_draft_dict = create_master_draft_dict(len(all_scrapes[\"pick_1\"]))\r\n",
        "  for i in range(len(all_scrapes[\"pick_1\"])):\r\n",
        "    all_drafts = create_full_draft(all_scrapes, i)\r\n",
        "    try:\r\n",
        "      all_pack_array, all_pick_array = take_regex_of_draft(all_drafts)\r\n",
        "    except:\r\n",
        "      print(\"error, draft: \", i)\r\n",
        "    all_pool_array = create_pools(all_pick_array)\r\n",
        "    urls_to_strings_pack(all_pack_array, \"pack\", master_draft_dict, i)\r\n",
        "    urls_to_strings_pack(all_pool_array, \"pool\", master_draft_dict, i)\r\n",
        "    urls_to_strings_pick(all_pick_array, \"pick\", master_draft_dict, i)\r\n",
        "  return master_draft_dict\r\n"
      ],
      "execution_count": null,
      "outputs": []
    },
    {
      "cell_type": "markdown",
      "metadata": {
        "id": "94QgLeP-m6Ba"
      },
      "source": [
        "### master_draft_dict is the dictionary that holds the string representation of every pick, pack, and pool for every draft in the dataset.  \"missing urls\" will be populated with any missing urls that are present in the drafts but not present in the master_hash.  If anything appears in the output of the cell below, your machine learing bot will not work.  You need to make sure every card url provided has a corresponding card name before you move forward.  Go into master hash and update the hash using an API request from scryfall."
      ]
    },
    {
      "cell_type": "code",
      "metadata": {
        "colab": {
          "base_uri": "https://localhost:8080/"
        },
        "id": "0ztgrc78hRnv",
        "outputId": "adb7c92f-15f0-4324-fc43-d78793c10cc7"
      },
      "source": [
        "master_draft_dict = build_all_drafts(all_scrapes)\r\n",
        "missing_urls"
      ],
      "execution_count": null,
      "outputs": [
        {
          "output_type": "execute_result",
          "data": {
            "text/plain": [
              "{}"
            ]
          },
          "metadata": {
            "tags": []
          },
          "execution_count": 22
        }
      ]
    },
    {
      "cell_type": "markdown",
      "metadata": {
        "id": "GoITF3Vxa5o9"
      },
      "source": [
        "### onehot encoding the master dict"
      ]
    },
    {
      "cell_type": "code",
      "metadata": {
        "id": "BzhC_YUrId2P"
      },
      "source": [
        "def find_onehot(string_or_array):\r\n",
        "  if (isinstance(string_or_array, list)):\r\n",
        "    onehot = np.zeros(len(master_hash[\"name_to_url\"]), dtype=np.int8)\r\n",
        "    for card_string in string_or_array:\r\n",
        "      onehot[master_hash[\"name_to_index\"][card_string]] += 1\r\n",
        "  return onehot"
      ],
      "execution_count": null,
      "outputs": []
    },
    {
      "cell_type": "code",
      "metadata": {
        "id": "QJHvXO1p045j"
      },
      "source": [
        "def create_onehot_dict(master_dict):\r\n",
        "  draft_count = len(master_dict)\r\n",
        "  pick_count = len(master_dict[\"draft_0\"])\r\n",
        "  types = [\"pick\", \"pack\", \"pool\"]\r\n",
        "  master_draft_dict_onehot = create_master_draft_dict(draft_count)\r\n",
        "  for i in range(0, draft_count):\r\n",
        "    for j in range(1, pick_count):\r\n",
        "      for type in types:\r\n",
        "        onehot = find_onehot(master_dict[\"draft_\" +str(i)][\"pick_\" + str(j)][type])\r\n",
        "        master_draft_dict_onehot[\"draft_\" +str(i)][\"pick_\" + str(j)][type] = onehot\r\n",
        "  return master_draft_dict_onehot"
      ],
      "execution_count": null,
      "outputs": []
    },
    {
      "cell_type": "markdown",
      "metadata": {
        "id": "88n2KK6aa1vN"
      },
      "source": [
        "### Alternate onehot encoding for reduced value early picks - this is currently not in use"
      ]
    },
    {
      "cell_type": "code",
      "metadata": {
        "id": "ejHth3tCaPFu"
      },
      "source": [
        "# def find_onehot_float(string_or_array):\r\n",
        "#   if (isinstance(string_or_array, list)):\r\n",
        "#     onehot = np.zeros(len(master_hash[\"name_to_url\"]), dtype=np.float32)\r\n",
        "#     for card_string in string_or_array:\r\n",
        "#       onehot[master_hash[\"name_to_index\"][card_string]] = 1\r\n",
        "#   return onehot"
      ],
      "execution_count": null,
      "outputs": []
    },
    {
      "cell_type": "code",
      "metadata": {
        "id": "nkXHr2BNZKGe"
      },
      "source": [
        "# def create_onehot_dict_augmented(master_dict, pool_intercept=0.66, pool_slope=0.03):\r\n",
        "#   draft_count = len(master_dict)\r\n",
        "#   pick_count = len(master_dict[\"draft_0\"])\r\n",
        "#   types = [\"pick\", \"pack\", \"pool\"]\r\n",
        "#   master_draft_dict_onehot = create_master_draft_dict(draft_count)\r\n",
        "#   for i in range(0, draft_count):\r\n",
        "#     for j in range(1, pick_count):\r\n",
        "#       for type in types:\r\n",
        "#         if (type == \"pool\"):\r\n",
        "#           onehot = find_onehot_float(master_dict[\"draft_\" +str(i)][\"pick_\" + str(j)][type])\r\n",
        "#           master_draft_dict_onehot[\"draft_\" +str(i)][\"pick_\" + str(j)][type] = onehot* np.minimum(1, pool_slope*j + pool_intercept)\r\n",
        "#         else:\r\n",
        "#           onehot = find_onehot(master_dict[\"draft_\" +str(i)][\"pick_\" + str(j)][type])\r\n",
        "#           master_draft_dict_onehot[\"draft_\" +str(i)][\"pick_\" + str(j)][type] = onehot\r\n",
        "#   return master_draft_dict_onehot"
      ],
      "execution_count": null,
      "outputs": []
    },
    {
      "cell_type": "markdown",
      "metadata": {
        "id": "VcdU_expmxyc"
      },
      "source": [
        "### Creating a master dictionary that contains all pools, packs, and picks for every draft in the dataset"
      ]
    },
    {
      "cell_type": "code",
      "metadata": {
        "colab": {
          "base_uri": "https://localhost:8080/"
        },
        "id": "oJ93zV4hbENi",
        "outputId": "c640cdf0-0742-43ac-b889-4b8de5decda6"
      },
      "source": [
        "master_draft_dict_onehot = create_onehot_dict(master_draft_dict)"
      ],
      "execution_count": null,
      "outputs": [
        {
          "output_type": "execute_result",
          "data": {
            "text/plain": [
              "array([0, 0, 0, 0, 0, 0, 0, 0, 0, 0, 0, 0, 0, 0, 0, 0, 0, 0, 0, 0, 0, 0,\n",
              "       0, 0, 0, 0, 0, 0, 0, 0, 0, 0, 0, 0, 0, 0, 0, 0, 0, 0, 0, 0, 0, 0,\n",
              "       0, 0, 0, 0, 0, 0, 0, 0, 0, 0, 0, 0, 0, 0, 0, 0, 0, 0, 0, 0, 0, 0,\n",
              "       0, 0, 0, 0, 0, 0, 0, 0, 0, 0, 0, 0, 0, 0, 0, 0, 0, 0, 0, 0, 0, 0,\n",
              "       0, 0, 0, 0, 0, 0, 0, 0, 0, 0, 0, 0, 0, 0, 0, 0, 0, 0, 0, 0, 0, 0,\n",
              "       0, 0, 0, 0, 0, 0, 0, 0, 0, 0, 0, 0, 0, 0, 0, 0, 0, 0, 0, 0, 0, 0,\n",
              "       0, 0, 0, 0, 0, 0, 0, 0, 0, 0, 0, 0, 0, 0, 0, 0, 0, 0, 0, 0, 0, 0,\n",
              "       0, 0, 0, 0, 0, 0, 0, 0, 0, 0, 0, 0, 0, 0, 0, 0, 0, 0, 0, 0, 0, 0,\n",
              "       0, 0, 0, 0, 0, 0, 0, 0, 0, 0, 0, 0, 0, 0, 0, 0, 0, 0, 0, 0, 0, 0,\n",
              "       0, 0, 0, 0, 0, 0, 0, 0, 0, 0, 0, 0, 0, 0, 0, 0, 0, 0, 0, 0, 0, 0,\n",
              "       0, 0, 0, 0, 0, 0, 0, 1, 0, 0, 0, 0, 0, 0, 0, 0, 0, 0, 0, 0, 0, 0,\n",
              "       0, 0, 0, 0, 0, 0, 0, 0, 0, 0, 0, 0, 0, 0, 0, 0, 0, 0, 0, 0, 0, 0,\n",
              "       0, 0, 0, 0, 0, 0, 0, 0, 0, 0, 0, 0, 0, 0, 0, 0, 0, 0, 0, 0, 0, 0,\n",
              "       0, 0, 0, 0, 0, 0, 0, 0, 0, 0, 0, 0, 0, 0, 0, 0, 0, 0, 0],\n",
              "      dtype=int8)"
            ]
          },
          "metadata": {
            "tags": []
          },
          "execution_count": 27
        }
      ]
    },
    {
      "cell_type": "markdown",
      "metadata": {
        "id": "j9W_gi19TWaa"
      },
      "source": [
        "### Creating feature vector for each pool"
      ]
    },
    {
      "cell_type": "code",
      "metadata": {
        "id": "EB1RmFzKXVql"
      },
      "source": [
        "feature_vector_index = {}\r\n",
        "feature_vector_index[\"Colorless\"] = 0\r\n",
        "feature_vector_index[\"W\"] = 1\r\n",
        "feature_vector_index[\"U\"] = 2\r\n",
        "feature_vector_index[\"B\"] = 3\r\n",
        "feature_vector_index[\"R\"] = 4\r\n",
        "feature_vector_index[\"G\"] = 5\r\n",
        "feature_vector_index[0.0] = 6\r\n",
        "feature_vector_index[1.0] = 7\r\n",
        "feature_vector_index[2.0] = 8\r\n",
        "feature_vector_index[3.0] = 9\r\n",
        "feature_vector_index[4.0] = 10\r\n",
        "feature_vector_index[5.0] = 11\r\n",
        "feature_vector_index[6.0] = 12\r\n",
        "feature_vector_index[7.0] = 13"
      ],
      "execution_count": null,
      "outputs": []
    },
    {
      "cell_type": "code",
      "metadata": {
        "id": "aTLPhviATVD8"
      },
      "source": [
        "def create_feature_vector(master_dict, master_dict_onehot):\r\n",
        "\r\n",
        "  #how we will code the feature vector, \"C\" is colorless\r\n",
        "  vector_reference = [ \"Colorless\", \"W\", \"U\", \"B\", \"R\", \"G\", 0.0, 1.0, 2.0, 3.0, 4.0, 5.0, 6.0, 7.0]\r\n",
        "\r\n",
        "  for i in range(len(master_dict)): #for each draft\r\n",
        "    for j in range(len(master_dict[\"draft_0\"])): #for each pick\r\n",
        "      pool_feature_vector = np.zeros(len(vector_reference), dtype=np.float32)  #create an empty feature vector\r\n",
        "      for card_name in master_dict[\"draft_\" + str(i)][\"pick_\" + str(j+1)][\"pool\"]:  #fetch the cards in pool for that pick\r\n",
        "        \r\n",
        "        # adding color to vector\r\n",
        "        colors = master_hash[\"name_to_color\"][card_name]  #fetch colors of each card, formatted [\"W\", \"U\"] for UW gold card\r\n",
        "        if (len(colors) == 0):\r\n",
        "          pool_feature_vector[feature_vector_index[\"Colorless\"]] += 1  #if colorless, add one to colorless feature vector\r\n",
        "        else:\r\n",
        "          for color in colors: #else, for each color\r\n",
        "            pool_feature_vector[feature_vector_index[color]] += (1/len(colors))  #add 1/number of colors in card.  0.5 W 0.5 U for UW\r\n",
        "        \r\n",
        "        # adding cmc to vector\r\n",
        "        cmc = master_hash[\"name_to_cmc\"][card_name]  #fetch cmc\r\n",
        "        try:\r\n",
        "          pool_feature_vector[feature_vector_index[cmc]] += 1  #see if cmc is 0-7\r\n",
        "        except:\r\n",
        "          pool_feature_vector[feature_vector_index[7.0]] += 1 #if not, its more than 7, so just add one to seven\r\n",
        "\r\n",
        "      master_dict_onehot[\"draft_\" + str(i)][\"pick_\" + str(j+1)][\"feature_vector\"] = pool_feature_vector  #save results in master_dictionary\r\n",
        "\r\n",
        "  return "
      ],
      "execution_count": null,
      "outputs": []
    },
    {
      "cell_type": "markdown",
      "metadata": {
        "id": "49VkFlqia-5r"
      },
      "source": [
        "### testing our results"
      ]
    },
    {
      "cell_type": "code",
      "metadata": {
        "id": "t5LJdFxMKASe"
      },
      "source": [
        "master_draft_dict_onehot = create_onehot_dict(master_draft_dict)"
      ],
      "execution_count": null,
      "outputs": []
    },
    {
      "cell_type": "code",
      "metadata": {
        "id": "JsrvPoCfbB5m"
      },
      "source": [
        "create_feature_vector(master_draft_dict, master_draft_dict_onehot)"
      ],
      "execution_count": null,
      "outputs": []
    },
    {
      "cell_type": "code",
      "metadata": {
        "colab": {
          "base_uri": "https://localhost:8080/"
        },
        "id": "nzjJcGDkiaeD",
        "outputId": "f4e58dca-2d2d-4569-d0fe-f15e6889688c"
      },
      "source": [
        "master_draft_dict_onehot[\"draft_10\"][\"pick_5\"][\"feature_vector\"]"
      ],
      "execution_count": null,
      "outputs": [
        {
          "output_type": "execute_result",
          "data": {
            "text/plain": [
              "array([0. , 1.5, 0. , 1. , 0. , 1.5, 0. , 0. , 1. , 0. , 3. , 0. , 0. ,\n",
              "       0. ], dtype=float32)"
            ]
          },
          "metadata": {
            "tags": []
          },
          "execution_count": 32
        }
      ]
    },
    {
      "cell_type": "markdown",
      "metadata": {
        "id": "O9lKYq_deR8W"
      },
      "source": [
        "## Define function to take onehot and spit out string of card"
      ]
    },
    {
      "cell_type": "code",
      "metadata": {
        "id": "YuU06kpaK50i"
      },
      "source": [
        "def find_contense(one_hot):\r\n",
        "    pack = []\r\n",
        "    for i in range(0, len(one_hot)):\r\n",
        "        if (one_hot[i] == 0):\r\n",
        "            pass\r\n",
        "        if (one_hot[i] > 0):\r\n",
        "            pack.append(master_hash[\"index_to_name\"][i])\r\n",
        "    return pack"
      ],
      "execution_count": null,
      "outputs": []
    },
    {
      "cell_type": "markdown",
      "metadata": {
        "id": "4q4Ga_4keva0"
      },
      "source": [
        "### Creating input arrays for ML"
      ]
    },
    {
      "cell_type": "code",
      "metadata": {
        "id": "RuaTtmCreAqQ"
      },
      "source": [
        "def generate_input_arrays(onehot_dict=master_draft_dict_onehot):\r\n",
        "  pack_list = []\r\n",
        "  pool_list = []\r\n",
        "  pick_list = []\r\n",
        "  feature_vector_list = []\r\n",
        "  draft_count = len(onehot_dict)\r\n",
        "  pick_count = len(onehot_dict[\"draft_0\"])\r\n",
        "  types = [\"pick\", \"pack\", \"pool\", \"feature_vector\"]\r\n",
        "  for i in range(0, draft_count):\r\n",
        "    for j in range(1, pick_count):\r\n",
        "      for type in types:\r\n",
        "        if (type == \"pool\"):\r\n",
        "          pool_list.append(onehot_dict[\"draft_\" +str(i)][\"pick_\" + str(j)][type])\r\n",
        "        if (type == \"pack\"):\r\n",
        "          pack_list.append(onehot_dict[\"draft_\" +str(i)][\"pick_\" + str(j)][type])\r\n",
        "        if (type == \"pick\"):\r\n",
        "          pick_list.append(onehot_dict[\"draft_\" +str(i)][\"pick_\" + str(j)][type])\r\n",
        "        if (type == \"feature_vector\"):\r\n",
        "          feature_vector_list.append(onehot_dict[\"draft_\" +str(i)][\"pick_\" + str(j)][type])\r\n",
        "  return pack_list, pool_list, pick_list, feature_vector_list"
      ],
      "execution_count": null,
      "outputs": []
    },
    {
      "cell_type": "code",
      "metadata": {
        "id": "h2MPsScsfhGz"
      },
      "source": [
        "pack_list_testrun, pool_list_testrun, pick_list_testrun, feature_vector_list_testrun = generate_input_arrays(master_draft_dict_onehot)"
      ],
      "execution_count": null,
      "outputs": []
    },
    {
      "cell_type": "markdown",
      "metadata": {
        "id": "5SkWVdijmebP"
      },
      "source": [
        "### Saving files to main folder.  Please note:  Every time you add additional drafts to the dataset, you must rerun this notebook to overwrite the previous saves and append the new drafts to the save file."
      ]
    },
    {
      "cell_type": "code",
      "metadata": {
        "id": "fB0r9t-ifqq8"
      },
      "source": [
        "pack_list_testrun_save = open(\"/content/gdrive/MyDrive/Colab Notebooks/17_lands_scrapes/kaldheim/pack_list_testrun\", \"wb\")\r\n",
        "pickle.dump(pack_list_testrun, pack_list_testrun_save)\r\n",
        "pack_list_testrun_save.close()"
      ],
      "execution_count": null,
      "outputs": []
    },
    {
      "cell_type": "code",
      "metadata": {
        "id": "dq3rpugGxMxZ"
      },
      "source": [
        "pool_list_testrun_save = open(\"/content/gdrive/MyDrive/Colab Notebooks/17_lands_scrapes/kaldheim/pool_list_testrun\", \"wb\")\r\n",
        "pickle.dump(pool_list_testrun, pool_list_testrun_save)\r\n",
        "pool_list_testrun_save.close()"
      ],
      "execution_count": null,
      "outputs": []
    },
    {
      "cell_type": "code",
      "metadata": {
        "id": "RW1JKa6-xfCO"
      },
      "source": [
        "pick_list_testrun_save = open(\"/content/gdrive/MyDrive/Colab Notebooks/17_lands_scrapes/kaldheim/pick_list_testrun\", \"wb\")\r\n",
        "pickle.dump(pick_list_testrun, pick_list_testrun_save)\r\n",
        "pick_list_testrun_save.close()"
      ],
      "execution_count": null,
      "outputs": []
    },
    {
      "cell_type": "code",
      "metadata": {
        "id": "7gIf1Hj9xqUI"
      },
      "source": [
        "feature_vector_list_testrun_save = open(\"/content/gdrive/MyDrive/Colab Notebooks/17_lands_scrapes/kaldheim/feature_vector_list_testrun\", \"wb\")\r\n",
        "pickle.dump(feature_vector_list_testrun, feature_vector_list_testrun_save)\r\n",
        "feature_vector_list_testrun_save.close()"
      ],
      "execution_count": null,
      "outputs": []
    },
    {
      "cell_type": "code",
      "metadata": {
        "id": "qWeWCI2ZKQ6m"
      },
      "source": [
        ""
      ],
      "execution_count": null,
      "outputs": []
    }
  ]
}